{
 "cells": [
  {
   "cell_type": "code",
   "execution_count": 3,
   "id": "d116f08f",
   "metadata": {},
   "outputs": [
    {
     "name": "stdout",
     "output_type": "stream",
     "text": [
      "Using ETM API at     http://localhost:3000/api/v3\n",
      "Token loaded?        True\n"
     ]
    }
   ],
   "source": [
    "# Generic setup block\n",
    "\n",
    "import os, sys\n",
    "import pprint\n",
    "from pathlib import Path\n",
    "\n",
    "# Set paths\n",
    "\n",
    "project_root = Path(os.getcwd()).parent\n",
    "src_path     = project_root / \"src\"\n",
    "if str(src_path) not in sys.path:\n",
    "    sys.path.insert(0, str(src_path))  # so `import pyetm` works\n",
    "\n",
    "# Hide the trackback for now\n",
    "\n",
    "ipython = get_ipython()\n",
    "\n",
    "def hide_traceback(exc_tuple=None, filename=None, tb_offset=None,\n",
    "                   exception_only=False, running_compiled_code=False):\n",
    "    etype, value, tb = sys.exc_info()\n",
    "    return ipython._showtraceback(etype, value, ipython.InteractiveTB.get_exception_only(etype, value))\n",
    "\n",
    "ipython.showtraceback = hide_traceback\n",
    "\n",
    "# Import pyETM\n",
    "\n",
    "from pyetm.config.settings import get_settings\n",
    "from pyetm.models import Scenario\n",
    "\n",
    "# Check if our API is ready!\n",
    "\n",
    "print(\"Using ETM API at    \",       get_settings().base_url)\n",
    "print(\"Token loaded?       \",       bool(get_settings().etm_api_token))"
   ]
  },
  {
   "cell_type": "code",
   "execution_count": 4,
   "id": "6f6ca164",
   "metadata": {},
   "outputs": [
    {
     "name": "stdout",
     "output_type": "stream",
     "text": [
      "Curves from scenario with session id: 2690288\n",
      "Shape: (8760, 2)\n",
      "                  Time  Price (Euros)\n",
      "0     2050-01-01 00:00           26.0\n",
      "1     2050-01-01 01:00           26.0\n",
      "2     2050-01-01 02:00           25.0\n",
      "3     2050-01-01 03:00           25.0\n",
      "4     2050-01-01 04:00           25.0\n",
      "...                ...            ...\n",
      "8755  2050-12-31 19:00           25.0\n",
      "8756  2050-12-31 20:00           25.0\n",
      "8757  2050-12-31 21:00           25.0\n",
      "8758  2050-12-31 22:00           25.0\n",
      "8759  2050-12-31 23:00           25.0\n",
      "\n",
      "[8760 rows x 2 columns]\n"
     ]
    }
   ],
   "source": [
    "from pyetm.clients import BaseClient\n",
    "from pyetm.services.scenario_runners.fetch_carrier_curves import DownloadCarrierCurveRunner\n",
    "import pandas as pd\n",
    "\n",
    "\n",
    "scenario = Scenario.load(2690288)\n",
    "client = BaseClient()\n",
    "\n",
    "print(f\"Curves from scenario with session id: {scenario.id}\")\n",
    "curve_name = \"electricity_price\"\n",
    "result = DownloadCarrierCurveRunner.run(client, scenario, curve_name)\n",
    "df = pd.read_csv(result.data)\n",
    "print(f\"Shape: {df.shape}\")\n",
    "print(df)"
   ]
  },
  {
   "cell_type": "code",
   "execution_count": 6,
   "id": "8e2e86df",
   "metadata": {},
   "outputs": [
    {
     "name": "stdout",
     "output_type": "stream",
     "text": [
      "Downloaded 10 curves\n"
     ]
    }
   ],
   "source": [
    "# Test fetch all curves\n",
    "\n",
    "from pyetm.services.scenario_runners.fetch_carrier_curves import FetchAllCarrierCurvesRunner\n",
    "\n",
    "curves = FetchAllCarrierCurvesRunner.run(client, scenario)\n",
    "\n",
    "print(f\"Downloaded {len(curves.data) if curves.data else 0} curves\")\n",
    "if curves.errors:\n",
    "    print(f\"Warnings: {curves.errors}\")\n"
   ]
  }
 ],
 "metadata": {
  "kernelspec": {
   "display_name": "pyetm-qKH2ozgc",
   "language": "python",
   "name": "python3"
  },
  "language_info": {
   "codemirror_mode": {
    "name": "ipython",
    "version": 3
   },
   "file_extension": ".py",
   "mimetype": "text/x-python",
   "name": "python",
   "nbconvert_exporter": "python",
   "pygments_lexer": "ipython3",
   "version": "3.12.9"
  }
 },
 "nbformat": 4,
 "nbformat_minor": 5
}
