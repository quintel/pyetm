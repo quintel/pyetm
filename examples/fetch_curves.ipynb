{
 "cells": [
  {
   "cell_type": "code",
   "execution_count": 3,
   "id": "d116f08f",
   "metadata": {},
   "outputs": [
    {
     "name": "stdout",
     "output_type": "stream",
     "text": [
      "Using ETM API at     http://localhost:3000/api/v3\n",
      "Token loaded?        True\n"
     ]
    }
   ],
   "source": [
    "# Generic setup block\n",
    "\n",
    "import os, sys\n",
    "import pprint\n",
    "from pathlib import Path\n",
    "\n",
    "# Set paths\n",
    "\n",
    "project_root = Path(os.getcwd()).parent\n",
    "src_path     = project_root / \"src\"\n",
    "if str(src_path) not in sys.path:\n",
    "    sys.path.insert(0, str(src_path))  # so `import pyetm` works\n",
    "\n",
    "# Hide the trackback for now\n",
    "\n",
    "ipython = get_ipython()\n",
    "\n",
    "def hide_traceback(exc_tuple=None, filename=None, tb_offset=None,\n",
    "                   exception_only=False, running_compiled_code=False):\n",
    "    etype, value, tb = sys.exc_info()\n",
    "    return ipython._showtraceback(etype, value, ipython.InteractiveTB.get_exception_only(etype, value))\n",
    "\n",
    "ipython.showtraceback = hide_traceback\n",
    "\n",
    "# Import pyETM\n",
    "\n",
    "from pyetm.config.settings import get_settings\n",
    "from pyetm.models import Scenario\n",
    "\n",
    "# Check if our API is ready!\n",
    "\n",
    "print(\"Using ETM API at    \",       get_settings().base_url)\n",
    "print(\"Token loaded?       \",       bool(get_settings().etm_api_token))"
   ]
  },
  {
   "cell_type": "code",
   "execution_count": 4,
   "id": "6f6ca164",
   "metadata": {},
   "outputs": [
    {
     "name": "stdout",
     "output_type": "stream",
     "text": [
      "Curves from scenario with session id: 2690288\n",
      "Shape: (8760, 2)\n",
      "                  Time  Price (Euros)\n",
      "0     2050-01-01 00:00           26.0\n",
      "1     2050-01-01 01:00           26.0\n",
      "2     2050-01-01 02:00           25.0\n",
      "3     2050-01-01 03:00           25.0\n",
      "4     2050-01-01 04:00           25.0\n",
      "...                ...            ...\n",
      "8755  2050-12-31 19:00           25.0\n",
      "8756  2050-12-31 20:00           25.0\n",
      "8757  2050-12-31 21:00           25.0\n",
      "8758  2050-12-31 22:00           25.0\n",
      "8759  2050-12-31 23:00           25.0\n",
      "\n",
      "[8760 rows x 2 columns]\n"
     ]
    }
   ],
   "source": [
    "from pyetm.clients import BaseClient\n",
    "from pyetm.services.scenario_runners.fetch_carrier_curves import DownloadCarrierCurveRunner\n",
    "import pandas as pd\n",
    "\n",
    "\n",
    "scenario = Scenario.load(2690288)\n",
    "client = BaseClient()\n",
    "\n",
    "print(f\"Curves from scenario with session id: {scenario.id}\")\n",
    "curve_name = \"electricity_price\"\n",
    "result = DownloadCarrierCurveRunner.run(client, scenario, curve_name)\n",
    "df = pd.read_csv(result.data)\n",
    "print(f\"Shape: {df.shape}\")\n",
    "print(df)"
   ]
  },
  {
   "cell_type": "code",
   "execution_count": 6,
   "id": "8e2e86df",
   "metadata": {},
   "outputs": [
    {
     "name": "stdout",
     "output_type": "stream",
     "text": [
      "Downloaded 10 curves\n"
     ]
    }
   ],
   "source": [
    "# Test fetch all curves\n",
    "\n",
    "from pyetm.services.scenario_runners.fetch_carrier_curves import FetchAllCarrierCurvesRunner\n",
    "\n",
    "curves = FetchAllCarrierCurvesRunner.run(client, scenario)\n",
    "\n",
    "print(f\"Downloaded {len(curves.data) if curves.data else 0} curves\")\n",
    "if curves.errors:\n",
    "    print(f\"Warnings: {curves.errors}\")\n"
   ]
  },
  {
   "cell_type": "code",
   "execution_count": null,
   "id": "fe309854",
   "metadata": {},
   "outputs": [],
   "source": []
  },
  {
   "cell_type": "markdown",
   "id": "41a2826e",
   "metadata": {},
   "source": [
    "Queries can be added on-the-go. When the packer is exported to Excel, all requested queries will show up."
   ]
  },
  {
   "cell_type": "markdown",
   "id": "9f1159b8",
   "metadata": {},
   "source": [
    "## Curves to pandas series"
   ]
  },
  {
   "cell_type": "markdown",
   "id": "49bc979b",
   "metadata": {},
   "source": [
    "@Louis, I moved this from the excel one. It needs some cleaning up!"
   ]
  },
  {
   "cell_type": "code",
   "execution_count": null,
   "id": "111e9d75",
   "metadata": {},
   "outputs": [
    {
     "name": "stdout",
     "output_type": "stream",
     "text": [
      "0       26.00\n",
      "1       26.00\n",
      "2       14.48\n",
      "3        0.01\n",
      "4        0.02\n",
      "        ...  \n",
      "8755     0.01\n",
      "8756     0.01\n",
      "8757     0.01\n",
      "8758     0.02\n",
      "8759     0.00\n",
      "Name: interconnector_2_price, Length: 8760, dtype: float64\n"
     ]
    }
   ],
   "source": [
    "# Custom curves\n",
    "if scenario.custom_curves.is_attached(\"interconnector_2_price\"):\n",
    "    print(\n",
    "        scenario.custom_curve_series(\"interconnector_2_price\")\n",
    "    )"
   ]
  },
  {
   "cell_type": "code",
   "execution_count": null,
   "id": "5da85220",
   "metadata": {},
   "outputs": [
    {
     "name": "stdout",
     "output_type": "stream",
     "text": [
      "Curve found: True\n",
      "Direct retrieve: <class 'pandas.core.frame.DataFrame'>\n",
      "get_contents: <class 'pandas.core.frame.DataFrame'>\n",
      "scenario method: <class 'pandas.core.frame.DataFrame'>\n"
     ]
    }
   ],
   "source": [
    "from pyetm.clients.base_client import BaseClient\n",
    "\n",
    "\n",
    "curve = scenario.carrier_curves._find(\"electricity_price\")\n",
    "print(f\"Curve found: {curve is not None}\")\n",
    "\n",
    "if curve:\n",
    "    # Test direct curve retrieval\n",
    "    direct_result = curve.retrieve(BaseClient(), scenario)\n",
    "    print(f\"Direct retrieve: {type(direct_result)}\")\n",
    "\n",
    "    # Test via get_contents\n",
    "    contents_result = scenario.carrier_curves.get_contents(scenario, \"electricity_price\")\n",
    "    print(f\"get_contents: {type(contents_result)}\")\n",
    "\n",
    "    # Test via scenario method\n",
    "    scenario_result = scenario.carrier_curve_series(\"electricity_price\")\n",
    "    print(f\"scenario method: {type(scenario_result)}\")\n"
   ]
  },
  {
   "cell_type": "code",
   "execution_count": null,
   "id": "fe4b363b",
   "metadata": {},
   "outputs": [
    {
     "name": "stdout",
     "output_type": "stream",
     "text": [
      "Available carrier curves: ['merit_order', 'electricity_price', 'heat_network', 'agriculture_heat', 'household_heat', 'buildings_heat', 'hydrogen', 'network_gas', 'residual_load', 'hydrogen_integral_cost']\n",
      "Result: <class 'pandas.core.frame.DataFrame'>\n",
      "Shape: (8760, 1)\n",
      "First 5 values:    Price (Euros)\n",
      "0           26.0\n",
      "1           26.0\n",
      "2           25.0\n",
      "3           25.0\n",
      "4           25.0\n"
     ]
    }
   ],
   "source": [
    "print(f\"Available carrier curves: {list(scenario.carrier_curves.attached_keys())}\")\n",
    "result = scenario.carrier_curve_series(\"electricity_price\")\n",
    "print(f\"Result: {type(result)}\")\n",
    "if result is not None:\n",
    "    print(f\"Shape: {result.shape}\")\n",
    "    print(f\"First 5 values: {result.head()}\")"
   ]
  },
  {
   "cell_type": "code",
   "execution_count": null,
   "id": "5186c38f",
   "metadata": {},
   "outputs": [
    {
     "name": "stdout",
     "output_type": "stream",
     "text": [
      "Fetching merit_order... "
     ]
    },
    {
     "ename": "KeyboardInterrupt",
     "evalue": "",
     "output_type": "error",
     "traceback": [
      "\u001b[31mKeyboardInterrupt\u001b[39m\n"
     ]
    }
   ],
   "source": [
    "curve_count = 0\n",
    "failed_curves = []\n",
    "\n",
    "for curve_name in scenario.carrier_curves.attached_keys():\n",
    "    print(f\"Fetching {curve_name}...\", end=\" \")\n",
    "\n",
    "    try:\n",
    "        # This will fetch and cache the curves\n",
    "        result = scenario.carrier_curve_series(curve_name)\n",
    "\n",
    "        if result is not None:\n",
    "            print(f\"({result.shape[0]} points)\")\n",
    "            curve_count += 1\n",
    "        else:\n",
    "            print(\"No data\")\n",
    "            failed_curves.append(curve_name)\n",
    "\n",
    "    except Exception as e:\n",
    "        print(f\"Error: {e}\")\n",
    "        failed_curves.append(curve_name)\n",
    "\n",
    "print(f\"   Successfully fetched: {curve_count} curves\")\n",
    "print(f\"   Failed: {len(failed_curves)} curves\")\n",
    "\n",
    "if failed_curves:\n",
    "    print(f\"   Failed curves: {failed_curves}\")\n"
   ]
  }
 ],
 "metadata": {
  "kernelspec": {
   "display_name": "pyetm-qKH2ozgc",
   "language": "python",
   "name": "python3"
  },
  "language_info": {
   "codemirror_mode": {
    "name": "ipython",
    "version": 3
   },
   "file_extension": ".py",
   "mimetype": "text/x-python",
   "name": "python",
   "nbconvert_exporter": "python",
   "pygments_lexer": "ipython3",
   "version": "3.12.9"
  }
 },
 "nbformat": 4,
 "nbformat_minor": 5
}
