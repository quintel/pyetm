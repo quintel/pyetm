{
 "cells": [
  {
   "cell_type": "markdown",
   "id": "d9bff682",
   "metadata": {},
   "source": [
    "Creating / Updating a scenario flow:\n",
    "\n",
    "#TODO: Expand descriptions etc, this is just to show the funnctionality"
   ]
  },
  {
   "cell_type": "markdown",
   "id": "21347fc1",
   "metadata": {},
   "source": [
    "# SETUP"
   ]
  },
  {
   "cell_type": "code",
   "execution_count": 1,
   "id": "3ada4b30",
   "metadata": {},
   "outputs": [
    {
     "name": "stdout",
     "output_type": "stream",
     "text": [
      "Environment setup complete\n",
      "  Using ETM API at     http://localhost:3000/api/v3\n",
      "  Token loaded?        True\n",
      "API connection ready\n"
     ]
    }
   ],
   "source": [
    "from example_helpers import setup_notebook\n",
    "from pyetm.models import Scenario\n",
    "\n",
    "setup_notebook()"
   ]
  },
  {
   "cell_type": "markdown",
   "id": "84571cab",
   "metadata": {},
   "source": [
    "Create a new scenario:"
   ]
  },
  {
   "cell_type": "code",
   "execution_count": 2,
   "id": "4770e6a9",
   "metadata": {},
   "outputs": [],
   "source": [
    "# scenario = Scenario.new(\"nl\", 2050, True)\n",
    "\n",
    "scenario = Scenario.new(\n",
    "    area_code=\"nl2019\",\n",
    "    end_year=2050,\n",
    "    private=False,\n",
    "    keep_compatible=False,\n",
    "    source=\"pyetm\")"
   ]
  },
  {
   "cell_type": "markdown",
   "id": "07461117",
   "metadata": {},
   "source": [
    "Update inputs for a scenario:"
   ]
  },
  {
   "cell_type": "code",
   "execution_count": 3,
   "id": "5a1549ac",
   "metadata": {},
   "outputs": [],
   "source": [
    "scenario.update_inputs({\n",
    "    \"co_firing_biocoal_share\": 80.0,\n",
    "})\n"
   ]
  },
  {
   "cell_type": "markdown",
   "id": "af9d11bd",
   "metadata": {},
   "source": [
    "View the changes (so you know it happened):"
   ]
  },
  {
   "cell_type": "code",
   "execution_count": 4,
   "id": "7fc4dc21",
   "metadata": {},
   "outputs": [
    {
     "name": "stdout",
     "output_type": "stream",
     "text": [
      "Area: nl2019\n",
      "End year: 2050\n",
      "Start year: 2019\n",
      "Version: latest\n",
      "Modified inputs: 2\n",
      "First input: co_firing_biocoal_share = 80.0\n",
      "Second input: co_firing_coal_share = 20.0\n"
     ]
    }
   ],
   "source": [
    "print(f\"Area: {scenario.area_code}\")\n",
    "print(f\"End year: {scenario.end_year}\")\n",
    "print(f\"Start year: {scenario.start_year}\")\n",
    "print(f\"Version: {scenario.version}\")\n",
    "user_vals = scenario.user_values()\n",
    "print(f\"Modified inputs: {len(user_vals)}\")\n",
    "print(f\"First input: {list(user_vals.keys())[0]} = {list(user_vals.values())[0]}\")\n",
    "print(f\"Second input: {list(user_vals.keys())[1]} = {list(user_vals.values())[1]}\")"
   ]
  },
  {
   "cell_type": "markdown",
   "id": "4dba3824",
   "metadata": {},
   "source": [
    "Update the metadata for the scenario:"
   ]
  },
  {
   "cell_type": "code",
   "execution_count": 5,
   "id": "c6a65f6a",
   "metadata": {},
   "outputs": [
    {
     "data": {
      "text/plain": [
       "{'scenario': {'id': 2690547,\n",
       "  'created_at': '2025-07-25T15:00:50.000Z',\n",
       "  'updated_at': '2025-07-25T15:00:50.000Z',\n",
       "  'end_year': 2050,\n",
       "  'keep_compatible': True,\n",
       "  'private': True,\n",
       "  'area_code': 'nl2019',\n",
       "  'source': 'test_change',\n",
       "  'user_values': {'co_firing_biocoal_share': 80.0},\n",
       "  'balanced_values': {'co_firing_coal_share': 20.0},\n",
       "  'metadata': {'title': 'Test scenario!',\n",
       "   'description': 'Updated scenario description',\n",
       "   'author': 'Ernie'},\n",
       "  'active_couplings': [],\n",
       "  'start_year': 2019,\n",
       "  'inactive_couplings': [],\n",
       "  'scaling': None,\n",
       "  'template': None,\n",
       "  'url': 'http://localhost:3000/api/v3/scenarios/2690547'},\n",
       " 'gqueries': {}}"
      ]
     },
     "execution_count": 5,
     "metadata": {},
     "output_type": "execute_result"
    }
   ],
   "source": [
    "scenario.update_metadata(\n",
    "    private= True,\n",
    "    keep_compatible= True,\n",
    "    source= \"test_change_source\",\n",
    "    end_year= 2040\n",
    ")\n",
    "\n",
    "# You can also update the metadata attribute\n",
    "scenario.update_metadata(\n",
    "    metadata= {\n",
    "        \"title\": \"Test scenario!\",\n",
    "        \"description\": \"Updated scenario description\",\n",
    "        \"author\": \"Ernie\"\n",
    "    })\n",
    "\n",
    "\n",
    "# You can also update the metadata attribute\n",
    "scenario.update_metadata(\n",
    "    metadata= {\n",
    "        \"title\": \"New title\",\n",
    "        \"extra_field\": \"Should merge nicely\",\n",
    "        \"author\": \"Bert\"\n",
    "    })\n",
    "\n",
    "#TODO: Because it's Jupyter it prints out the scenario json here - not standard stuff, I'm not sure how to supress it though"
   ]
  },
  {
   "cell_type": "markdown",
   "id": "3cd56ce2",
   "metadata": {},
   "source": [
    "You can also remove inputs, which means the default value is then used."
   ]
  },
  {
   "cell_type": "code",
   "execution_count": 6,
   "id": "98ab2f5c",
   "metadata": {},
   "outputs": [
    {
     "name": "stdout",
     "output_type": "stream",
     "text": [
      "Modified inputs: 0\n"
     ]
    }
   ],
   "source": [
    "scenario.remove_inputs([\"co_firing_biocoal_share\"])\n",
    "user_vals = scenario.user_values()\n",
    "print(f\"Modified inputs: {len(user_vals)}\")"
   ]
  },
  {
   "cell_type": "code",
   "execution_count": 7,
   "id": "323be505",
   "metadata": {},
   "outputs": [],
   "source": [
    "scenario.update_sortables(\n",
    "    sortable=\"forecast_storage\", order=[\"transport_car_flexibility_p2p_electricity\",\n",
    "    \"energy_flexibility_hv_opac_electricity\",\n",
    "    \"energy_flexibility_mv_batteries_electricity\",\n",
    "    \"households_flexibility_p2p_electricity\",\n",
    "    \"energy_flexibility_flow_batteries_electricity\"]\n",
    ")"
   ]
  },
  {
   "cell_type": "code",
   "execution_count": null,
   "id": "53b51c8a",
   "metadata": {},
   "outputs": [
    {
     "ename": "ScenarioError",
     "evalue": "Sortables validation failed: Invalid items for 'forecast_storage': ['batteries', 'invalid_tech']. Available items: ['energy_flexibility_flow_batteries_electricity', 'energy_flexibility_hv_opac_electricity', 'energy_flexibility_mv_batteries_electricity', 'households_flexibility_p2p_electricity', 'transport_car_flexibility_p2p_electricity']",
     "output_type": "error",
     "traceback": [
      "\u001b[31mScenarioError\u001b[39m\u001b[31m:\u001b[39m Sortables validation failed: Invalid items for 'forecast_storage': ['batteries', 'invalid_tech']. Available items: ['energy_flexibility_flow_batteries_electricity', 'energy_flexibility_hv_opac_electricity', 'energy_flexibility_mv_batteries_electricity', 'households_flexibility_p2p_electricity', 'transport_car_flexibility_p2p_electricity']\n"
     ]
    }
   ],
   "source": [
    "#BAD SORTABLE UPDATE TO DEMONSTRATE VALIDATION\n",
    "scenario.update_sortables(\n",
    "    sortable=\"forecast_storage\",\n",
    "    order=[\"batteries\", \"invalid_tech\"]\n",
    ")\n"
   ]
  }
 ],
 "metadata": {
  "kernelspec": {
   "display_name": "pyetm-qKH2ozgc",
   "language": "python",
   "name": "python3"
  },
  "language_info": {
   "codemirror_mode": {
    "name": "ipython",
    "version": 3
   },
   "file_extension": ".py",
   "mimetype": "text/x-python",
   "name": "python",
   "nbconvert_exporter": "python",
   "pygments_lexer": "ipython3",
   "version": "3.12.9"
  }
 },
 "nbformat": 4,
 "nbformat_minor": 5
}
