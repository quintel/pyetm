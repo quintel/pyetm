{
 "cells": [
  {
   "cell_type": "markdown",
   "id": "d9bff682",
   "metadata": {},
   "source": [
    "Creating / Updating a scenario flow:\n",
    "\n",
    "#TODO: Expand descriptions etc, this is just to show the funnctionality"
   ]
  },
  {
   "cell_type": "markdown",
   "id": "21347fc1",
   "metadata": {},
   "source": [
    "# SETUP"
   ]
  },
  {
   "cell_type": "code",
   "execution_count": 1,
   "id": "3ada4b30",
   "metadata": {},
   "outputs": [
    {
     "name": "stdout",
     "output_type": "stream",
     "text": [
      "Environment setup complete\n",
      "  Using ETM API at     https://beta.engine.energytransitionmodel.com/api/v3\n",
      "  Token loaded?        True\n",
      "API connection ready\n"
     ]
    }
   ],
   "source": [
    "from example_helpers import setup_notebook\n",
    "from pyetm.models import Scenario\n",
    "\n",
    "setup_notebook()"
   ]
  },
  {
   "cell_type": "markdown",
   "id": "84571cab",
   "metadata": {},
   "source": [
    "Create a new scenario:"
   ]
  },
  {
   "cell_type": "code",
   "execution_count": 2,
   "id": "4770e6a9",
   "metadata": {},
   "outputs": [],
   "source": [
    "# scenario = Scenario.new(\"nl\", 2050, True)\n",
    "\n",
    "scenario = Scenario.new(\n",
    "    area_code=\"nl2019\",\n",
    "    end_year=2050,\n",
    "    private=False,\n",
    "    keep_compatible=False,\n",
    "    source=\"pyetm\")"
   ]
  },
  {
   "cell_type": "markdown",
   "id": "07461117",
   "metadata": {},
   "source": [
    "Update inputs for a scenario:"
   ]
  },
  {
   "cell_type": "code",
   "execution_count": 6,
   "id": "5a1549ac",
   "metadata": {},
   "outputs": [
    {
     "ename": "ScenarioError",
     "evalue": "Could not update user values: {'external_coupling_industry_chemical_other_burner_crude_oil_share': ['user: Input should be a valid number, unable to parse string as a number']}",
     "output_type": "error",
     "traceback": [
      "\u001b[31mScenarioError\u001b[39m\u001b[31m:\u001b[39m Could not update user values: {'external_coupling_industry_chemical_other_burner_crude_oil_share': ['user: Input should be a valid number, unable to parse string as a number']}\n"
     ]
    }
   ],
   "source": [
    "scenario.update_user_values({\n",
    "    \"co_firing_biocoal_share\": 80.0,\n",
    "    \"external_coupling_industry_chemical_other_burner_crude_oil_share\": \"hello\"\n",
    "})\n"
   ]
  },
  {
   "cell_type": "markdown",
   "id": "af9d11bd",
   "metadata": {},
   "source": [
    "View the changes (so you know it happened):"
   ]
  },
  {
   "cell_type": "code",
   "execution_count": 4,
   "id": "7fc4dc21",
   "metadata": {},
   "outputs": [
    {
     "name": "stdout",
     "output_type": "stream",
     "text": [
      "Area: nl2019\n",
      "End year: 2050\n",
      "Start year: 2019\n",
      "Version: beta\n",
      "Modified inputs: 1\n",
      "First input: co_firing_biocoal_share = 80.0\n"
     ]
    },
    {
     "ename": "IndexError",
     "evalue": "list index out of range",
     "output_type": "error",
     "traceback": [
      "\u001b[31mIndexError\u001b[39m\u001b[31m:\u001b[39m list index out of range\n"
     ]
    }
   ],
   "source": [
    "print(f\"Area: {scenario.area_code}\")\n",
    "print(f\"End year: {scenario.end_year}\")\n",
    "print(f\"Start year: {scenario.start_year}\")\n",
    "print(f\"Version: {scenario.version}\")\n",
    "user_vals = scenario.user_values()\n",
    "print(f\"Modified inputs: {len(user_vals)}\")\n",
    "print(f\"First input: {list(user_vals.keys())[0]} = {list(user_vals.values())[0]}\")\n",
    "print(f\"Second input: {list(user_vals.keys())[1]} = {list(user_vals.values())[1]}\")"
   ]
  },
  {
   "cell_type": "markdown",
   "id": "4dba3824",
   "metadata": {},
   "source": [
    "Update the metadata for the scenario:"
   ]
  },
  {
   "cell_type": "code",
   "execution_count": 7,
   "id": "c6a65f6a",
   "metadata": {},
   "outputs": [
    {
     "name": "stdout",
     "output_type": "stream",
     "text": [
      "False\n"
     ]
    }
   ],
   "source": [
    "scenario.update_metadata(\n",
    "    private= True,\n",
    "    keep_compatible= True,\n",
    "    source= \"test_change_source\",\n",
    "    end_year= 2040\n",
    ")\n",
    "\n",
    "# You can also update the metadata attribute\n",
    "scenario.update_metadata(\n",
    "    metadata= {\n",
    "        \"title\": \"Test scenario!\",\n",
    "        \"description\": \"Updated scenario description\",\n",
    "        \"author\": \"Ernie\"\n",
    "    }\n",
    "})\n",
    "\n",
    "print(scenario.private)"
   ]
  },
  {
   "cell_type": "markdown",
   "id": "3cd56ce2",
   "metadata": {},
   "source": [
    "You can also remove inputs, which means the default value is then used."
   ]
  },
  {
   "cell_type": "code",
   "execution_count": 5,
   "id": "98ab2f5c",
   "metadata": {},
   "outputs": [
    {
     "ename": "AttributeError",
     "evalue": "'Scenario' object has no attribute 'remove_inputs'",
     "output_type": "error",
     "traceback": [
      "\u001b[31mAttributeError\u001b[39m\u001b[31m:\u001b[39m 'Scenario' object has no attribute 'remove_inputs'\n"
     ]
    }
   ],
   "source": [
    "scenario.remove_user_values([\"co_firing_biocoal_share\"])\n",
    "user_vals = scenario.user_values()\n",
    "print(f\"Modified inputs: {len(user_vals)}\")"
   ]
  }
 ],
 "metadata": {
  "kernelspec": {
   "display_name": "pyetm-FWBOHxp3",
   "language": "python",
   "name": "python3"
  },
  "language_info": {
   "codemirror_mode": {
    "name": "ipython",
    "version": 3
   },
   "file_extension": ".py",
   "mimetype": "text/x-python",
   "name": "python",
   "nbconvert_exporter": "python",
   "pygments_lexer": "ipython3",
   "version": "3.12.11"
  }
 },
 "nbformat": 4,
 "nbformat_minor": 5
}
