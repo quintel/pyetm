{
 "cells": [
  {
   "cell_type": "markdown",
   "id": "d9bff682",
   "metadata": {},
   "source": [
    "Creating / Updating a scenario flow:\n",
    "\n",
    "#TODO: Expand descriptions etc, this is just to show the funnctionality"
   ]
  },
  {
   "cell_type": "markdown",
   "id": "21347fc1",
   "metadata": {},
   "source": [
    "# SETUP"
   ]
  },
  {
   "cell_type": "code",
   "execution_count": 7,
   "id": "3ada4b30",
   "metadata": {},
   "outputs": [
    {
     "name": "stdout",
     "output_type": "stream",
     "text": [
      "Environment setup complete\n",
      "  Using ETM API at     http://localhost:3000/api/v3\n",
      "  Token loaded?        True\n",
      "API connection ready\n"
     ]
    }
   ],
   "source": [
    "from example_helpers import setup_notebook\n",
    "from pyetm.models import Scenario\n",
    "\n",
    "setup_notebook()"
   ]
  },
  {
   "cell_type": "markdown",
   "id": "84571cab",
   "metadata": {},
   "source": [
    "Create a new scenario:"
   ]
  },
  {
   "cell_type": "code",
   "execution_count": 8,
   "id": "4770e6a9",
   "metadata": {},
   "outputs": [],
   "source": [
    "# scenario = Scenario.new(\"nl\", 2050, True)\n",
    "\n",
    "scenario = Scenario.new(\n",
    "    area_code=\"nl2019\",\n",
    "    end_year=2050,\n",
    "    private=False,\n",
    "    keep_compatible=True,\n",
    "    source=\"pyetm\")"
   ]
  },
  {
   "cell_type": "markdown",
   "id": "07461117",
   "metadata": {},
   "source": [
    "Update inputs for a scenario:"
   ]
  },
  {
   "cell_type": "code",
   "execution_count": 9,
   "id": "5a1549ac",
   "metadata": {},
   "outputs": [],
   "source": [
    "scenario.update_inputs({\n",
    "    \"co_firing_biocoal_share\": 80.0,\n",
    "})\n"
   ]
  },
  {
   "cell_type": "markdown",
   "id": "af9d11bd",
   "metadata": {},
   "source": [
    "View the changes (so you know it happened):"
   ]
  },
  {
   "cell_type": "code",
   "execution_count": 10,
   "id": "7fc4dc21",
   "metadata": {},
   "outputs": [
    {
     "name": "stdout",
     "output_type": "stream",
     "text": [
      "Area: nl2019\n",
      "End year: 2050\n",
      "Start year: 2019\n",
      "Version: latest\n",
      "Modified inputs: 2\n",
      "First input: co_firing_biocoal_share = 80.0\n",
      "Second input: co_firing_coal_share = 20.0\n"
     ]
    }
   ],
   "source": [
    "print(f\"Area: {scenario.area_code}\")\n",
    "print(f\"End year: {scenario.end_year}\")\n",
    "print(f\"Start year: {scenario.start_year}\")\n",
    "print(f\"Version: {scenario.version}\")\n",
    "user_vals = scenario.user_values()\n",
    "print(f\"Modified inputs: {len(user_vals)}\")\n",
    "print(f\"First input: {list(user_vals.keys())[0]} = {list(user_vals.values())[0]}\")\n",
    "print(f\"Second input: {list(user_vals.keys())[1]} = {list(user_vals.values())[1]}\")"
   ]
  },
  {
   "cell_type": "markdown",
   "id": "4dba3824",
   "metadata": {},
   "source": [
    "Update the metadata for the scenario:"
   ]
  },
  {
   "cell_type": "code",
   "execution_count": 11,
   "id": "c6a65f6a",
   "metadata": {},
   "outputs": [
    {
     "data": {
      "text/plain": [
       "{'scenario': {'id': 2690527,\n",
       "  'created_at': '2025-07-18T13:10:10.000Z',\n",
       "  'updated_at': '2025-07-18T13:10:10.000Z',\n",
       "  'end_year': 2050,\n",
       "  'keep_compatible': True,\n",
       "  'private': True,\n",
       "  'area_code': 'nl2019',\n",
       "  'source': 'test_change',\n",
       "  'user_values': {'co_firing_biocoal_share': 80.0},\n",
       "  'balanced_values': {'co_firing_coal_share': 20.0},\n",
       "  'metadata': {'title': 'Test scenario!',\n",
       "   'description': 'Updated scenario description',\n",
       "   'author': 'Ernie'},\n",
       "  'active_couplings': [],\n",
       "  'start_year': 2019,\n",
       "  'inactive_couplings': [],\n",
       "  'scaling': None,\n",
       "  'template': None,\n",
       "  'url': 'http://localhost:3000/api/v3/scenarios/2690527'},\n",
       " 'gqueries': {}}"
      ]
     },
     "execution_count": 11,
     "metadata": {},
     "output_type": "execute_result"
    }
   ],
   "source": [
    "scenario.update_metadata({\n",
    "    \"private\": True,\n",
    "    \"keep_compatible\": True,\n",
    "    \"source\": \"test_change\"\n",
    "})\n",
    "\n",
    "# You can also update the metadata attribute\n",
    "scenario.update_metadata({\n",
    "    \"metadata\": {\n",
    "        \"title\": \"Test scenario!\",\n",
    "        \"description\": \"Updated scenario description\",\n",
    "        \"author\": \"Ernie\"\n",
    "    }\n",
    "})"
   ]
  },
  {
   "cell_type": "markdown",
   "id": "3cd56ce2",
   "metadata": {},
   "source": [
    "You can also remove inputs, which means the default value is then used."
   ]
  },
  {
   "cell_type": "code",
   "execution_count": 12,
   "id": "98ab2f5c",
   "metadata": {},
   "outputs": [
    {
     "name": "stdout",
     "output_type": "stream",
     "text": [
      "Modified inputs: 0\n"
     ]
    }
   ],
   "source": [
    "scenario.remove_inputs([\"co_firing_biocoal_share\"])\n",
    "user_vals = scenario.user_values()\n",
    "print(f\"Modified inputs: {len(user_vals)}\")"
   ]
  }
 ],
 "metadata": {
  "kernelspec": {
   "display_name": "pyetm-qKH2ozgc",
   "language": "python",
   "name": "python3"
  },
  "language_info": {
   "codemirror_mode": {
    "name": "ipython",
    "version": 3
   },
   "file_extension": ".py",
   "mimetype": "text/x-python",
   "name": "python",
   "nbconvert_exporter": "python",
   "pygments_lexer": "ipython3",
   "version": "3.12.9"
  }
 },
 "nbformat": 4,
 "nbformat_minor": 5
}
