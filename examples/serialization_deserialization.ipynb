{
 "cells": [
  {
   "cell_type": "markdown",
   "id": "a1b2c3d4",
   "metadata": {},
   "source": [
    "# Input Serialization/Deserialization\n",
    "\n",
    "This notebook demonstrates the serialization and deserialization capabilities of the `Inputs` model.\n",
    "We'll load a scenario, serialize its inputs to a DataFrame, deserialize them back to objects,\n",
    "and verify with some stats.\n",
    "\n",
    "## Setup"
   ]
  },
  {
   "cell_type": "code",
   "execution_count": null,
   "id": "setup_cell",
   "metadata": {},
   "outputs": [],
   "source": [
    "from example_helpers import setup_notebook\n",
    "from pyetm.models import Scenario\n",
    "\n",
    "setup_notebook()\n",
    "scenario = Scenario.load(2690288)"
   ]
  },
  {
   "cell_type": "markdown",
   "id": "original_data",
   "metadata": {},
   "source": [
    "## Step 1: Examine Original Inputs\n",
    "\n",
    "Let's look at the original inputs and collect some basic statistics:"
   ]
  },
  {
   "cell_type": "code",
   "execution_count": null,
   "id": "examine_original",
   "metadata": {},
   "outputs": [],
   "source": [
    "original_inputs = scenario.inputs\n",
    "\n",
    "print(\"Some inputs:\")\n",
    "for i, input in enumerate(original_inputs):\n",
    "    if i < 3:\n",
    "        print(f\"  {input.key} ({input.unit}): default={input.default}, user={input.user}\")\n",
    "    elif i == 3:\n",
    "        break"
   ]
  },
  {
   "cell_type": "markdown",
   "id": "serialization",
   "metadata": {},
   "source": [
    "## Step 2: Serialize to DataFrame\n",
    "\n",
    "Convert the inputs to a DataFrame for inspection and storage:"
   ]
  },
  {
   "cell_type": "code",
   "execution_count": null,
   "id": "serialize",
   "metadata": {},
   "outputs": [],
   "source": [
    "# Serialize to DataFrame with multiple columns\n",
    "df = original_inputs.to_df(columns=[\"user\", \"default\", \"min\", \"max\", \"disabled\"])\n",
    "\n",
    "print(f\"DataFrame shape: {df.shape}\")\n",
    "print(f\"DataFrame index: {df.index.names}\")\n",
    "print(f\"DataFrame columns: {list(df.columns)}\")\n",
    "\n",
    "print(df.head())"
   ]
  },
  {
   "cell_type": "markdown",
   "id": "deserialization",
   "metadata": {},
   "source": [
    "## Step 3: Deserialize from DataFrame\n",
    "\n",
    "Convert the DataFrame back to Input objects:"
   ]
  },
  {
   "cell_type": "code",
   "execution_count": null,
   "id": "deserialize",
   "metadata": {},
   "outputs": [],
   "source": [
    "# from pyetm.models.inputs import Inputs\n",
    "\n",
    "# reconstructed_inputs = Inputs.from_df(df)\n",
    "\n",
    "# print(f\"DataFrame shape: {reconstructed_inputs.to_df().shape}\")\n",
    "# print(f\"DataFrame index: {reconstructed_inputs.to_df().index.names}\")\n",
    "# print(f\"DataFrame columns: {list(reconstructed_inputs.to_df().columns)}\")\n",
    "\n",
    "# print(reconstructed_inputs.to_df().head())\n",
    "\n",
    "# df_again = reconstructed_inputs.to_df(columns=[\"user\", \"default\", \"min\", \"max\", \"disabled\"])\n",
    "\n",
    "# print(df_again.head())\n",
    "\n",
    "# # Check for warnings during deserialization\n",
    "# if reconstructed_inputs.warnings:\n",
    "#     print(f\"\\nDeserialization warnings ({len(reconstructed_inputs.warnings)}):\")\n",
    "#     reconstructed_inputs.show_warnings()\n",
    "# else:\n",
    "#     print(\"\\nNo deserialization warnings!\")\n",
    "\n",
    "\n",
    "# print(\"Same inputs:\")\n",
    "# for i, input in enumerate(reconstructed_inputs):\n",
    "#     if i < 3:\n",
    "#         print(f\"  {input.key} ({input.unit}): default={input.default}, user={input.user}\")\n",
    "#     elif i == 3:\n",
    "#         break"
   ]
  }
 ],
 "metadata": {
  "kernelspec": {
   "display_name": "pyetm-qKH2ozgc",
   "language": "python",
   "name": "python3"
  },
  "language_info": {
   "codemirror_mode": {
    "name": "ipython",
    "version": 3
   },
   "file_extension": ".py",
   "mimetype": "text/x-python",
   "name": "python",
   "nbconvert_exporter": "python",
   "pygments_lexer": "ipython3",
   "version": "3.12.9"
  }
 },
 "nbformat": 4,
 "nbformat_minor": 5
}
