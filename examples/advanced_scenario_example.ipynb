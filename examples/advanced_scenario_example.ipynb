{
 "cells": [
  {
   "cell_type": "markdown",
   "id": "ddbe7ab2",
   "metadata": {},
   "source": [
    "# Advanced Scenario Examples\n",
    "\n",
    "This notebook demonstrates how to use the `Scenario` object within the pyetm package to retrieve and \n",
    "inspect data from an ETM scenario. These examples are slightly more advanced, including analytics and\n",
    "data operations on the scenario object and its sub-models.\n",
    "\n",
    "Make sure you have a valid `ETM_API_TOKEN` set in your environment.\n",
    "\n",
    "## Structure\n",
    "\n",
    "This notebook is organized into two main sections:\n",
    "1. **Setup & Initialization** - Run these cells first to set up your environment and load a scenario\n",
    "2. **Exploration Examples** - After setup is complete, these cells can be run in any order to explore different aspects of scenario data"
   ]
  },
  {
   "cell_type": "markdown",
   "id": "setup_header",
   "metadata": {},
   "source": [
    "## Setup & Initialization\n",
    "\n",
    "**Run these cells first!** The following cells set up your environment and load a scenario. Complete this section before exploring the examples below."
   ]
  },
  {
   "cell_type": "markdown",
   "id": "5ba2f542",
   "metadata": {},
   "source": [
    "##### Environment Setup"
   ]
  },
  {
   "cell_type": "code",
   "execution_count": null,
   "id": "dfa34991",
   "metadata": {},
   "outputs": [],
   "source": [
    "from example_helpers import setup_notebook\n",
    "from pyetm.models import Scenario\n",
    "\n",
    "setup_notebook()"
   ]
  },
  {
   "cell_type": "markdown",
   "id": "f579be0a",
   "metadata": {},
   "source": [
    "##### Load a scenario\n",
    "\n",
    "This cell connects to a specific scenario using its session ID and loads all its data.\n",
    "\n",
    "The scenario object will contain inputs, outputs, custom curves, and other configuration data."
   ]
  },
  {
   "cell_type": "code",
   "execution_count": null,
   "id": "6a514b5d",
   "metadata": {},
   "outputs": [],
   "source": [
    "# Connect to your scenario by supplying the session ID\n",
    "scenario = Scenario.load(2690288)\n",
    "\n",
    "print(f\"  Scenario {scenario.id} loaded successfully\")\n",
    "print(f\"  Total inputs: {len(scenario.inputs)}\")\n",
    "print(f\"  User-modified inputs: {len(scenario.user_values())}\")\n",
    "print(\"\\n Setup complete! You can now run any of the exploration examples below in any order.\")"
   ]
  },
  {
   "cell_type": "markdown",
   "id": "exploration_header",
   "metadata": {},
   "source": [
    "## Exploration Examples\n",
    "\n",
    "**The cells below can be run in any order** after completing the setup section above. Each cell demonstrates different ways to explore and analyze scenario data using the pyetm package to connect to the Energy Transition Model's API."
   ]
  },
  {
   "cell_type": "markdown",
   "id": "basic_properties_section",
   "metadata": {},
   "source": [
    "### Basic Scenario Properties"
   ]
  },
  {
   "cell_type": "code",
   "execution_count": null,
   "id": "basic_properties",
   "metadata": {},
   "outputs": [],
   "source": [
    "# Display basic scenario properties\n",
    "# These properties define the fundamental characteristics of the scenario\n",
    "\n",
    "print(f\"Scenario ID:        {scenario.id}\")\n",
    "print(f\"Area Code:          {scenario.area_code}\")\n",
    "print(f\"End Year:           {scenario.end_year}\")\n",
    "print(f\"Start Year:         {scenario.start_year}\")\n",
    "print(f\"Created:            {scenario.created_at}\")\n",
    "print(f\"Updated:            {scenario.updated_at}\")\n",
    "print(f\"Private:            {scenario.private}\")\n",
    "print(f\"Template:           {scenario.template}\")\n",
    "print(f\"Source:             {scenario.source}\")\n",
    "print(f\"URL:                {scenario.url}\")\n",
    "print(f\"Keep Compatible:    {scenario.keep_compatible}\")\n",
    "print(f\"Scaling:            {scenario.scaling}\")\n",
    "print(f\"Version:            {scenario.version}\")\n",
    "\n",
    "# Show metadata if available\n",
    "if scenario.metadata:\n",
    "    print(\"\\nMetadata:\")\n",
    "    print(scenario.metadata)\n",
    "else:\n",
    "    print(\"\\nNo additional metadata available\")"
   ]
  },
  {
   "cell_type": "markdown",
   "id": "7418c5e1",
   "metadata": {},
   "source": [
    "### Complete Scenario Metadata Export\n",
    "\n",
    "The `model_dump()` method provides a complete export of all scenario metadata in a structured format. This includes all properties and their current values."
   ]
  },
  {
   "cell_type": "code",
   "execution_count": null,
   "id": "972bd7c5",
   "metadata": {},
   "outputs": [],
   "source": [
    "# Export complete scenario metadata\n",
    "# model_dump() returns a comprehensive dictionary containing all scenario metadata\n",
    "\n",
    "full_data = scenario.model_dump()\n",
    "print(f\"Complete scenario metadata ({len(full_data)} fields):\")\n",
    "print(\"\\n\" + \"-\"*70)\n",
    "print(full_data)"
   ]
  },
  {
   "cell_type": "markdown",
   "id": "user_values_section",
   "metadata": {},
   "source": [
    "### Exploring User-Modified Values\n",
    "\n",
    "The `user_values()` method returns a dictionary of all inputs that have been modified from their default values."
   ]
  },
  {
   "cell_type": "code",
   "execution_count": null,
   "id": "user_values_example",
   "metadata": {},
   "outputs": [],
   "source": [
    "# Display all user-modified input values\n",
    "# This shows only the inputs that have been changed from their default values\n",
    "# The format is {input_key: user_value}\n",
    "\n",
    "user_values = scenario.user_values()\n",
    "print(f\"Found {len(user_values)} user-modified inputs:\")\n",
    "print(\"\\n\" + \"-\"*70)\n",
    "print(user_values)"
   ]
  },
  {
   "cell_type": "markdown",
   "id": "input_analysis_section",
   "metadata": {},
   "source": [
    "### Analyzing Input Properties\n",
    "\n",
    "Each input in a scenario has various properties that define its behavior:\n",
    "- `key`: Unique identifier for the input\n",
    "- `unit`: The unit of measurement (e.g., 'MW', '%', 'PJ')\n",
    "- `disabled`: Whether the input is currently disabled\n",
    "- `user`: The value set by the user (if any)\n",
    "- `default`: The default value for this input\n",
    "\n",
    "Additional properties for specific input types:\n",
    "- **Float inputs**: `min` and `max` values defining valid ranges\n",
    "- **Enumerable inputs**: `permitted_values` showing available options"
   ]
  },
  {
   "cell_type": "code",
   "execution_count": null,
   "id": "input_collection_overview",
   "metadata": {},
   "outputs": [],
   "source": [
    "# Overview of the input collection\n",
    "# The inputs property provides access to all scenario inputs through an InputCollection\n",
    "\n",
    "print(f\"Input Collection Overview:\")\n",
    "print(f\"  Total inputs: {len(scenario.inputs)}\")\n",
    "print(f\"  Input collection type: {type(scenario.inputs)}\")\n",
    "print(f\"  User-modified inputs: {len([inp for inp in scenario.inputs if inp.user is not None])}\")\n",
    "print(f\"  Disabled inputs: {len([inp for inp in scenario.inputs if inp.disabled])}\")"
   ]
  },
  {
   "cell_type": "code",
   "execution_count": null,
   "id": "6c4825ba",
   "metadata": {},
   "outputs": [],
   "source": [
    "# Analyze units used across all inputs\n",
    "# This gives you an overview of what types of measurements are used in the scenario\n",
    "\n",
    "# Count inputs by unit type\n",
    "unit_counts = {}\n",
    "for input in scenario.inputs:\n",
    "    unit = input.unit or 'No unit'\n",
    "    unit_counts[unit] = unit_counts.get(unit, 0) + 1\n",
    "\n",
    "total_inputs = len(scenario.inputs)\n",
    "print(f\"Found {len(unit_counts)} different units used across {total_inputs:,} inputs:\")\n",
    "print(\"\\n\" + \"-\"*70)\n",
    "\n",
    "# Sort by count (most common first) and show percentages\n",
    "sorted_units = sorted(unit_counts.items(), key=lambda x: x[1], reverse=True)\n",
    "for unit, count in sorted_units:\n",
    "    percentage = (count / total_inputs) * 100\n",
    "    print(f\"{unit:15}: {count:4,} inputs ({percentage:5.1f}%)\")"
   ]
  },
  {
   "cell_type": "code",
   "execution_count": null,
   "id": "38fd7d1c",
   "metadata": {},
   "outputs": [],
   "source": [
    "# Identify disabled inputs\n",
    "# Disabled inputs are those that do not impact the scenario because of a coupling,\n",
    "# or if you are not the owner/editor of the scenario\n",
    "\n",
    "disabled_inputs = [input.key for input in scenario.inputs if input.disabled]\n",
    "print(f\"Found {len(disabled_inputs)} disabled inputs:\")\n",
    "print(\"\\n\" + \"-\"*70)\n",
    "print(disabled_inputs)"
   ]
  },
  {
   "cell_type": "code",
   "execution_count": null,
   "id": "f44d29ef",
   "metadata": {},
   "outputs": [],
   "source": [
    "# Display default values for all inputs\n",
    "# Default values represent the baseline scenario before user modifications\n",
    "\n",
    "default_values = { input.key: input.default for input in scenario.inputs }\n",
    "print(f\"Default values for {len(default_values)} inputs:\")\n",
    "print(\"\\n\" + \"-\"*70)\n",
    "print(default_values)"
   ]
  },
  {
   "cell_type": "code",
   "execution_count": null,
   "id": "d980ed9b",
   "metadata": {},
   "outputs": [],
   "source": [
    "# Explore Float input constraints\n",
    "# Float inputs have minimum and maximum values that define valid ranges\n",
    "# This information helps to understand input range-limitations and validation rules\n",
    "\n",
    "from pyetm.models.input import FloatInput\n",
    "\n",
    "float_inputs = [input for input in scenario.inputs if isinstance(input, FloatInput)]\n",
    "print(f\"Found {len(float_inputs)} float inputs:\")\n",
    "print(\"\\n\" + \"-\"*70)\n",
    "\n",
    "float_details = [input.model_dump() for input in float_inputs]\n",
    "print(float_details)"
   ]
  },
  {
   "cell_type": "code",
   "execution_count": null,
   "id": "enumerable_inputs",
   "metadata": {},
   "outputs": [],
   "source": [
    "# Explore Enumerable input options\n",
    "# Some inputs have a limited set of permitted values (like dropdown selections)\n",
    "# This is useful for understanding available choices for categorical inputs\n",
    "\n",
    "from pyetm.models.input import EnumInput\n",
    "\n",
    "enum_inputs = [input for input in scenario.inputs if isinstance(input, EnumInput)]\n",
    "print(f\"Found {len(enum_inputs)} enumerable inputs:\")\n",
    "print(\"\\n\" + \"-\"*70)\n",
    "\n",
    "enum_details = [input.model_dump() for input in enum_inputs]\n",
    "print(enum_details)"
   ]
  },
  {
   "cell_type": "markdown",
   "id": "curves_section",
   "metadata": {},
   "source": [
    "### Working with Custom Curves\n",
    "\n",
    "Custom curves represent time-series data that can be attached to specific inputs. These are typically used for:\n",
    "- Load profiles (electricity demand over time)\n",
    "- Production profiles (renewable energy output patterns)\n",
    "- Availability curves (when technologies are available)\n",
    "- Price curves (energy prices over time)\n",
    "\n",
    "The curves contain hourly data points for an entire year (8760 hours)."
   ]
  },
  {
   "cell_type": "code",
   "execution_count": null,
   "id": "custom_curves_overview",
   "metadata": {},
   "outputs": [],
   "source": [
    "# Overview of custom curves collection\n",
    "# Custom curves are hourly time-series data used to define dynamic behaviour across a year\n",
    "\n",
    "print(f\"Custom Curves Collection Overview:\")\n",
    "print(f\"  Collection type: {type(scenario.custom_curves)}\")\n",
    "\n",
    "# Show attached custom curves\n",
    "attached_curves = list(scenario.custom_curves.attached_keys())\n",
    "print(f\"\\nAttached custom curves ({len(attached_curves)}):\")\n",
    "for i, curve_key in enumerate(attached_curves[:10]):\n",
    "    print(f\"  {i+1}. {curve_key}\")\n",
    "if len(attached_curves) > 10:\n",
    "    print(f\"  ... and {len(attached_curves) - 10} more\")"
   ]
  },
  {
   "cell_type": "code",
   "execution_count": null,
   "id": "f18f67df",
   "metadata": {},
   "outputs": [],
   "source": [
    "# Example: Display data from a specific curve\n",
    "# This shows how to access the actual time-series data from a custom curve\n",
    "# The custom_curve_series() method returns the hourly values for the specified curve\n",
    "# The curve is stored as a pandas Series\n",
    "\n",
    "curve_key = 'interconnector_1_import_availability'\n",
    "if curve_key in scenario.custom_curves.attached_keys():\n",
    "    curve_data = scenario.custom_curve_series(curve_key)\n",
    "    print(f\"Curve data for '{curve_key}':\")\n",
    "    print(f\"  Data points: {len(curve_data)}\")\n",
    "    print(f\"  First 10 values: {curve_data.head(10).tolist()}\")\n",
    "    print(f\"  Data type: {type(curve_data)}\")\n",
    "    print(f\"  Min value: {curve_data.min()}\")\n",
    "    print(f\"  Max value: {curve_data.max()}\")\n",
    "    print(f\"  Mean value: {curve_data.mean():.4f}\")\n",
    "else:\n",
    "    print(f\"Curve '{curve_key}' not found in this scenario.\")\n",
    "    print(\"Available curves:\", list(scenario.custom_curves.attached_keys()))"
   ]
  },
  {
   "cell_type": "code",
   "execution_count": null,
   "id": "all_custom_curves_analysis",
   "metadata": {},
   "outputs": [],
   "source": [
    "# Analyze all custom curves in the scenario\n",
    "# This iterates through max 5 attached curves and provides summary statistics\n",
    "\n",
    "print(\"Analysis of all custom curves in the scenario:\")\n",
    "print(\"\\n\" + \"-\"*70)\n",
    "\n",
    "curve_count = 0\n",
    "for curve_series in scenario.custom_curves_series():\n",
    "    curve_count += 1\n",
    "    print(f\"\\nCurve {curve_count}:\")\n",
    "    print(f\"  Length: {len(curve_series)}\")\n",
    "    print(f\"  Min: {curve_series.min():.4f}\")\n",
    "    print(f\"  Max: {curve_series.max():.4f}\")\n",
    "    print(f\"  Mean: {curve_series.mean():.4f}\")\n",
    "    print(f\"  Standard deviation: {curve_series.std():.4f}\")\n",
    "\n",
    "    # Stop after first 5 to avoid overwhelming output\n",
    "    if curve_count >= 5:\n",
    "        total_curves = len(list(scenario.custom_curves.attached_keys()))\n",
    "        if total_curves > 5:\n",
    "            print(f\"\\n... {total_curves - 5} more curves\")\n",
    "        break\n",
    "\n",
    "if curve_count == 0:\n",
    "    print(\"No custom curves found in this scenario.\")"
   ]
  },
  {
   "cell_type": "markdown",
   "id": "carrier_curves_section",
   "metadata": {},
   "source": [
    "### Working with Carrier Curves\n",
    "\n",
    "Carrier curves represent time-series data for energy carriers (electricity, heat, gas, etc.) within the energy system. \n",
    "\n",
    "Each carrier curve represents an export from your scenario, so they are actually sets of curves, stored as a dataframe where each column is a curve and the index is a time series for each hour."
   ]
  },
  {
   "cell_type": "code",
   "execution_count": null,
   "id": "carrier_curves_overview",
   "metadata": {},
   "outputs": [],
   "source": [
    "# Overview of carrier curves collection\n",
    "# Carrier curves represent energy flows and storage for different energy carriers\n",
    "\n",
    "print(f\"Carrier Curves Collection Overview:\")\n",
    "print(f\"  Collection type: {type(scenario.carrier_curves)}\")\n",
    "\n",
    "# Show first 10 available carrier curve types\n",
    "attached_carrier_curves = list(scenario.carrier_curves.attached_keys())\n",
    "print(f\"\\nAttached carrier curves ({len(attached_carrier_curves)}):\")\n",
    "for i, curve_key in enumerate(attached_carrier_curves[:10]):\n",
    "    print(f\"  {i+1}. {curve_key}\")\n",
    "if len(attached_carrier_curves) > 10:\n",
    "    print(f\"  ... {len(attached_carrier_curves) - 10} more\")"
   ]
  },
  {
   "cell_type": "code",
   "execution_count": null,
   "id": "all_carrier_curves_analysis",
   "metadata": {},
   "outputs": [],
   "source": [
    "# Analyze all carrier curves in the scenario\n",
    "# This provides a comprehensive overview of carrier curve behaviour and format\n",
    "\n",
    "print(\"Analysis of all carrier curves in the scenario:\")\n",
    "print(\"\\n\" + \"-\"*70)\n",
    "\n",
    "curve_count = 0\n",
    "attached_curve_keys = list(scenario.carrier_curves.attached_keys())\n",
    "for curve_data in scenario.carrier_curves_series():\n",
    "    curve_name = attached_curve_keys[curve_count] if curve_count < len(attached_curve_keys) else f\"Unknown Curve {curve_count + 1}\"\n",
    "    curve_count += 1\n",
    "    print(f\"\\n{curve_name}:\")\n",
    "\n",
    "    if curve_data is not None and not curve_data.empty:\n",
    "        print(f\"  Shape (rows × columns): {curve_data.shape}\")\n",
    "        print(f\"  Columns: {list(curve_data.columns)}\")\n",
    "\n",
    "        # For DataFrames, show summary stats differently\n",
    "        numeric_cols = curve_data.select_dtypes(include=[float, int]).columns\n",
    "        if len(numeric_cols) > 0:\n",
    "            print(f\"  Summary for numeric columns:\")\n",
    "            for col in numeric_cols[:3]:  # Show first 3 columns to avoid clutter\n",
    "                col_data = curve_data[col]\n",
    "                print(f\"    {col}:\")\n",
    "                print(f\"      Min: {float(col_data.min()):.4f}\")\n",
    "                print(f\"      Max: {float(col_data.max()):.4f}\")\n",
    "                print(f\"      Mean: {float(col_data.mean()):.4f}\")\n",
    "                print(f\"      Std: {float(col_data.std()):.4f}\")\n",
    "            if len(numeric_cols) > 3:\n",
    "                print(f\"    ... and {len(numeric_cols) - 3} more columns\")\n",
    "        else:\n",
    "            print(f\"  No numeric data available\")\n",
    "    else:\n",
    "        print(f\"  No data available\")\n",
    "\n",
    "    # Stop after first 5 to avoid overwhelming output\n",
    "    if curve_count >= 5:\n",
    "        total_curves = len(attached_curve_keys)\n",
    "        if total_curves > 5:\n",
    "            print(f\"\\n... and {total_curves - 5} more carrier curve exports\")\n",
    "        break\n",
    "\n",
    "if curve_count == 0:\n",
    "    print(\"No carrier curves found in this scenario.\")"
   ]
  },
  {
   "cell_type": "markdown",
   "id": "sortables_section",
   "metadata": {},
   "source": [
    "### Exploring Sortables\n",
    "\n",
    "Sortables represent ordered lists of technologies or components within the energy system. They define priority orders for:\n",
    "- Merit order\n",
    "- Forecast order\n",
    "- Heat network order\n",
    "- Hydrogen supply/demand\n",
    "\n",
    "The order of items in sortables affects how the energy system model calculates results."
   ]
  },
  {
   "cell_type": "code",
   "execution_count": null,
   "id": "sortables_overview",
   "metadata": {},
   "outputs": [],
   "source": [
    "# Overview of sortables collection\n",
    "# Sortables define ordering and priority for various energy system components\n",
    "\n",
    "print(f\"Sortables Overview:\")\n",
    "print(f\"  Data type: {type(scenario.sortables)}\")\n",
    "\n",
    "# Show all sortables\n",
    "sortable_keys = list(scenario.sortables.as_dict().keys())\n",
    "print(f\"\\nSortables ({len(sortable_keys)}):\")\n",
    "for i, sortable_key in enumerate(sortable_keys):\n",
    "    print(f\"  {i+1}. {sortable_key}\")"
   ]
  },
  {
   "cell_type": "code",
   "execution_count": null,
   "id": "4c90688f",
   "metadata": {},
   "outputs": [],
   "source": [
    "# Display sortable configurations\n",
    "# Sortables define the order/priority of different technologies in the energy system\n",
    "# For example, merit order determines which power plants are dispatched first\n",
    "# The order directly affects energy system calculations and results\n",
    "\n",
    "sortables_data = scenario.sortables.as_dict()\n",
    "print(f\"Found {len(sortables_data)} sortable orders:\")\n",
    "print(\"\\n\" + \"-\"*70)\n",
    "print(sortables_data)"
   ]
  },
  {
   "cell_type": "code",
   "execution_count": null,
   "id": "sortables_detailed_analysis",
   "metadata": {},
   "outputs": [],
   "source": [
    "# Analysis of each sortable category\n",
    "# This examines the structure and content of each sortable configuration\n",
    "\n",
    "sortables_data = scenario.sortables.as_dict()\n",
    "print(\"Detailed analysis of sortables:\")\n",
    "print(\"\\n\" + \"-\"*70)\n",
    "\n",
    "for category, sortables in sortables_data.items():\n",
    "    print(f\"\\n{category.upper()}:\")\n",
    "\n",
    "    if sortables:\n",
    "        print(f\"  Number of items: {len(sortables)}\")\n",
    "        print(f\"  Sortables:\")\n",
    "        for i, order in enumerate(sortables):\n",
    "            print(f\"    {i+1}. {order}\")"
   ]
  },
  {
   "cell_type": "markdown",
   "id": "f1f53bd1",
   "metadata": {},
   "source": [
    "### Working with Gqueries\n",
    "\n",
    "Gqueries allow you to extract specific calculated values from the ETM.\n",
    "\n",
    "You can request multiple queries and execute them together for efficiency."
   ]
  },
  {
   "cell_type": "code",
   "execution_count": null,
   "id": "6942e344",
   "metadata": {},
   "outputs": [],
   "source": [
    "scenario.add_queries([\n",
    "    \"dashboard_emissions\",\n",
    "    \"dashboard_total_costs\",\n",
    "    \"dashboard_renewability\"\n",
    "])\n",
    "\n",
    "print(f\"Added {len(scenario._queries.query_keys())} queries:\")\n",
    "for i, query in enumerate(scenario._queries.query_keys(), 1):\n",
    "    print(f\"  {i}. {query}\")\n",
    "\n",
    "print(f\"\\nQueries ready: {scenario._queries.is_ready()}\")\n",
    "\n",
    "print(\"Gqueries Overview:\")\n",
    "print(f\"  Queries requested: {scenario.queries_requested()}\")\n",
    "\n",
    "if scenario.queries_requested():\n",
    "    print(f\"  Query keys: {scenario._queries.query_keys()}\")\n",
    "    print(f\"  Queries ready: {scenario._queries.is_ready()}\")\n",
    "\n",
    "    # Get results if available\n",
    "    results = scenario.results()\n",
    "    if results is not None and not results.empty:\n",
    "        print(f\"\\nQuery Results:\")\n",
    "        print(f\"  Results shape: {results.shape}\")\n",
    "        print(f\"  Columns: {list(results.columns)}\")\n",
    "        print(f\"   \")\n",
    "        print(results.head())\n",
    "    else:\n",
    "        print(\"\\nNo query results available\")"
   ]
  },
  {
   "cell_type": "markdown",
   "id": "warnings_errors_section",
   "metadata": {},
   "source": [
    "### Handling Warnings and Errors\n",
    "\n",
    "The scenario object can accumulate warnings during data fetching and processing. These warnings provide important information about non-breaking issues with data quality, your API configuration, or service-level issues."
   ]
  },
  {
   "cell_type": "code",
   "execution_count": null,
   "id": "warnings_analysis",
   "metadata": {},
   "outputs": [],
   "source": [
    "# Check for warnings and errors in the scenario\n",
    "# Warnings can accumulate from API calls, data validation, or processing issues\n",
    "\n",
    "# Check if the scenario object has any warnings\n",
    "if hasattr(scenario, 'warnings') and scenario.warnings:\n",
    "    print(f\"  Total warnings: {len(scenario.warnings)}\")\n",
    "    print(\"\\nWarnings:\")\n",
    "    for i, warning in enumerate(scenario.warnings, 1):\n",
    "        print(f\"  {i}. {warning}\")\n",
    "else:\n",
    "    print(f\"  No warnings found\")"
   ]
  }
 ],
 "metadata": {
  "kernelspec": {
   "display_name": "pyetm-qKH2ozgc",
   "language": "python",
   "name": "python3"
  },
  "language_info": {
   "codemirror_mode": {
    "name": "ipython",
    "version": 3
   },
   "file_extension": ".py",
   "mimetype": "text/x-python",
   "name": "python",
   "nbconvert_exporter": "python",
   "pygments_lexer": "ipython3",
   "version": "3.12.9"
  }
 },
 "nbformat": 4,
 "nbformat_minor": 5
}
