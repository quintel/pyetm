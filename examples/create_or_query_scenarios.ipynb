{
 "cells": [
  {
   "cell_type": "markdown",
   "id": "268e5f69",
   "metadata": {},
   "source": [
    "This workbook demonstrates the complete flow from excel created / loaded scenarios to the API, including demonstrating how you can work with scenarios in pandas along the way.\n",
    "\n",
    "Before you begin you will need to place a config.yml in your root directory. An example.config.yml is available in /examples and will guide you through the setup. The README.md has additional details on environment management if you're setting up for the first time."
   ]
  },
  {
   "cell_type": "code",
   "execution_count": null,
   "id": "7ad85ac7",
   "metadata": {},
   "outputs": [],
   "source": [
    "# Check the environment is properly configured.\n",
    "from example_helpers import setup_notebook\n",
    "setup_notebook()"
   ]
  },
  {
   "cell_type": "markdown",
   "id": "2884d014",
   "metadata": {},
   "source": [
    "For the purposes of this demonstration workbook, we will use the pre-filled template 'my_input_excel.xlsx' which demonstrates a few of the possibilities afforded by the pyetm package. If it's your first time using the tool, have a look at the excel to get a sense of the structure.\n",
    "\n",
    "In the example, there are two scenarios, with short names scen_a and scen_b. You can use short names in the parameters sheet to specify which inputs belong to which scenario. Because scen_b has no scenario_id, it is being created. It will be created with all the metadata included in the sheet, plus any of the inputs under the column with its short_name and any sortables and curves specified in the sheets named beside the sortables and custom_curves rows. The same goes for scen_a, but because it has a scenario_id (1357395) that scenario will be loaded, and then updated with anything as set in the excel.\n",
    "\n",
    "**TODO**: Figure out how to manage the fact that for this example whatever scenario 1357395 is will be constantly updated etc by everyone who wants to try running this script on pro/beta. At the moment its just a local scenario."
   ]
  },
  {
   "cell_type": "code",
   "execution_count": null,
   "id": "077ae081",
   "metadata": {},
   "outputs": [],
   "source": [
    "from pyetm.models.scenarios import Scenarios\n",
    "\n",
    "scenarios = Scenarios.from_excel(\"example_input_excel.xlsx\")\n",
    "#scenario_a = Scenario.load(123456789) #TODO: Also load a scenario and include it in the array"
   ]
  },
  {
   "cell_type": "markdown",
   "id": "fb319a38",
   "metadata": {},
   "source": [
    "Now we have the 'scenarios' in pyetm which represent actual real scenarios in the ETM, one created and one loaded.\n",
    "\n",
    "The following blocks show how you can explore these scenarios' attributes - run some if you want to explore the data structures."
   ]
  },
  {
   "cell_type": "code",
   "execution_count": null,
   "id": "17bff6db",
   "metadata": {},
   "outputs": [],
   "source": [
    "# Metadata\n",
    "for scenario in scenarios:\n",
    "    print(f\"Title: {scenario.title}\")\n",
    "    print(f\"Area: {scenario.area_code}\")\n",
    "    print(f\"End year: {scenario.end_year}\")\n",
    "    print(f\"Version: {scenario.version}\")\n",
    "    print(f\"Source: {scenario.source}\")\n",
    "    print(f\"Metadata: {scenario.metadata}\")\n",
    "    print(\"\")"
   ]
  },
  {
   "cell_type": "code",
   "execution_count": null,
   "id": "1f9a4600",
   "metadata": {},
   "outputs": [],
   "source": [
    "# Inputs\n",
    "for scenario in scenarios:\n",
    "    inputs = scenario.inputs.to_dataframe(columns=[\"user\", \"default\", \"min\", \"max\"]).head(20)\n",
    "    print(inputs)\n",
    "    print(\"\")"
   ]
  },
  {
   "cell_type": "code",
   "execution_count": null,
   "id": "6e9bf837",
   "metadata": {},
   "outputs": [],
   "source": [
    "# Sortables\n",
    "for scenario in scenarios:\n",
    "    sortables = scenario.sortables.to_dataframe()\n",
    "    print(sortables)\n",
    "    print(\"\")"
   ]
  },
  {
   "cell_type": "code",
   "execution_count": null,
   "id": "9ef38d18",
   "metadata": {},
   "outputs": [],
   "source": [
    "# Custom Curves\n",
    "for scenario in scenarios:\n",
    "    curves = scenario.custom_curves.to_dataframe().head(20)\n",
    "    print(curves)\n",
    "    print(\"\")"
   ]
  },
  {
   "cell_type": "code",
   "execution_count": null,
   "id": "aa4e8ee8",
   "metadata": {},
   "outputs": [],
   "source": [
    "# Queries\n",
    "for scenario in scenarios:\n",
    "    print(scenario.results())\n",
    "    print(\"\")"
   ]
  },
  {
   "cell_type": "code",
   "execution_count": null,
   "id": "9a63a0a6",
   "metadata": {},
   "outputs": [],
   "source": [
    "# Warnings - did anything go wrong?\n",
    "for scenario in scenarios:\n",
    "    print(scenario.show_all_warnings())\n",
    "    print()"
   ]
  },
  {
   "cell_type": "markdown",
   "id": "86643b22",
   "metadata": {},
   "source": [
    "We can directly modify any of the attributes using Pandas, or we can re-export the scenarios to excel and make modifications that way. When exporting to excel, more data will be available than was in the input, because the ETM results will be included by default. The 'output curves' will be stored in a separate excel workbook, separated by carrier type. By default everything is included, but you can also specify what you want."
   ]
  },
  {
   "cell_type": "code",
   "execution_count": null,
   "id": "d24ad5e1",
   "metadata": {},
   "outputs": [],
   "source": [
    "# Export the scenarios to excel\n",
    "scenarios.to_excel(\"export.xlsx\") # This will create export.xlsx and export_output_curves.xlsx.\n",
    "\n",
    "# There are also options - decide whether to include the output_curves, specify where you want them and specify which carriers you're interested in.\n",
    "scenarios.to_excel((\"export_with_options.xlsx\"), export_output_curves=True, output_curves_path=\"output_curves.xlsx\", carriers=[\"electricity\", \"heat\", \"hydrogen\"])"
   ]
  }
 ],
 "metadata": {
  "kernelspec": {
   "display_name": "pyetm-Rh4Np-o3-py3.12",
   "language": "python",
   "name": "python3"
  },
  "language_info": {
   "codemirror_mode": {
    "name": "ipython",
    "version": 3
   },
   "file_extension": ".py",
   "mimetype": "text/x-python",
   "name": "python",
   "nbconvert_exporter": "python",
   "pygments_lexer": "ipython3",
   "version": "3.12.9"
  }
 },
 "nbformat": 4,
 "nbformat_minor": 5
}
