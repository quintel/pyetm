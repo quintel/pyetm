{
 "cells": [
  {
   "cell_type": "markdown",
   "id": "ddbe7ab2",
   "metadata": {},
   "source": [
    "# Scenario Examples\n",
    "\n",
    "This notebook demonstrates how to use the `Scenario` object to retrieve scenario inputs from the ETM API.\n",
    "\n",
    "Make sure you have a valid `ETM_API_TOKEN` set in your environment.\n",
    "\n",
    "## Structure\n",
    "\n",
    "This notebook is organized into two main sections:\n",
    "1. **Setup & Initialization** - Run these cells first to set up your environment and load a scenario\n",
    "2. **Exploration Examples** - After setup is complete, these cells can be run in any order to explore different aspects of scenario data\n",
    "\n",
    "#TODO: Expand of course"
   ]
  },
  {
   "cell_type": "markdown",
   "id": "setup_header",
   "metadata": {},
   "source": [
    "## Setup & Initialization\n",
    "\n",
    "**Run these cells first!** The following cells set up your environment and load a scenario. Complete this section before exploring the examples below."
   ]
  },
  {
   "cell_type": "code",
   "execution_count": null,
   "id": "02d9706d",
   "metadata": {},
   "outputs": [],
   "source": [
    "# Environment Setup\n",
    "# This cell configures the Python environment, imports required libraries, and sets up paths\n",
    "# It also configures the notebook to hide detailed error tracebacks for cleaner output\n",
    "\n",
    "import os, sys\n",
    "import pprint\n",
    "from pathlib import Path\n",
    "\n",
    "# Set paths so we can import pyetm from the src directory\n",
    "project_root = Path(os.getcwd()).parent\n",
    "src_path     = project_root / \"src\"\n",
    "if str(src_path) not in sys.path:\n",
    "    sys.path.insert(0, str(src_path))  # so `import pyetm` works\n",
    "\n",
    "# Configure cleaner error display for better notebook readability\n",
    "ipython = get_ipython()\n",
    "\n",
    "def hide_traceback(exc_tuple=None, filename=None, tb_offset=None,\n",
    "                   exception_only=False, running_compiled_code=False):\n",
    "    etype, value, tb = sys.exc_info()\n",
    "    return ipython._showtraceback(etype, value, ipython.InteractiveTB.get_exception_only(etype, value))\n",
    "\n",
    "ipython.showtraceback = hide_traceback\n",
    "\n",
    "print(\"✓ Environment setup complete\")"
   ]
  },
  {
   "cell_type": "code",
   "execution_count": null,
   "id": "import_and_verify",
   "metadata": {},
   "outputs": [],
   "source": [
    "# Import pyETM and verify API connection\n",
    "# This cell imports the necessary pyETM modules and checks that your API token is configured correctly\n",
    "\n",
    "from pyetm.config.settings import get_settings\n",
    "from pyetm.models import Scenario\n",
    "\n",
    "# Verify API configuration\n",
    "print(\"Using ETM API at    \",       get_settings().base_url)\n",
    "print(\"Token loaded?       \",       bool(get_settings().etm_api_token))\n",
    "\n",
    "if not get_settings().etm_api_token:\n",
    "    print(\"⚠️  Warning: No ETM_API_TOKEN found. Please set your token in the environment.\")\n",
    "else:\n",
    "    print(\"✓ API connection ready\")"
   ]
  },
  {
   "cell_type": "code",
   "execution_count": null,
   "id": "6a514b5d",
   "metadata": {},
   "outputs": [],
   "source": [
    "# Load a scenario from the ETM API\n",
    "# This cell connects to a specific scenario using its ID and loads all its data\n",
    "# The scenario object will contain inputs, outputs, custom curves, and other configuration data\n",
    "\n",
    "# Connect to your scenario by supplying the ID\n",
    "scenario = Scenario.load(2690288)\n",
    "\n",
    "print(f\"✓ Scenario {scenario.id} loaded successfully\")\n",
    "print(f\"  Title: {getattr(scenario, 'title', 'N/A')}\")\n",
    "print(f\"  Total inputs: {len(scenario.inputs)}\")\n",
    "print(f\"  User-modified inputs: {len(scenario.user_values())}\")\n",
    "print(\"\\n🎉 Setup complete! You can now run any of the exploration examples below in any order.\")"
   ]
  },
  {
   "cell_type": "markdown",
   "id": "exploration_header",
   "metadata": {},
   "source": [
    "## Exploration Examples\n",
    "\n",
    "**The cells below can be run in any order** after completing the setup section above. Each cell demonstrates different ways to explore and analyze scenario data using the pyETM API."
   ]
  },
  {
   "cell_type": "markdown",
   "id": "user_values_section",
   "metadata": {},
   "source": [
    "### Exploring User-Modified Values\n",
    "\n",
    "The `user_values()` method returns a dictionary of all inputs that have been modified from their default values. This is useful for understanding what customizations have been made to a scenario."
   ]
  },
  {
   "cell_type": "code",
   "execution_count": null,
   "id": "user_values_example",
   "metadata": {},
   "outputs": [],
   "source": [
    "# Display all user-modified input values\n",
    "# This shows only the inputs that have been changed from their default values\n",
    "# The format is {input_key: user_value}\n",
    "\n",
    "user_modifications = scenario.user_values()\n",
    "print(f\"Found {len(user_modifications)} user-modified inputs:\")\n",
    "print(\"\\n\" + \"=\"*50)\n",
    "pprint.pp(user_modifications)"
   ]
  },
  {
   "cell_type": "markdown",
   "id": "input_analysis_section",
   "metadata": {},
   "source": [
    "### Analyzing Input Properties\n",
    "\n",
    "Each input in a scenario has various properties that define its behavior:\n",
    "- `key`: Unique identifier for the input\n",
    "- `unit`: The unit of measurement (e.g., 'MW', '%', 'PJ')\n",
    "- `disabled`: Whether the input is currently disabled\n",
    "- `user`: The value set by the user (if any)\n",
    "- `default`: The default value for this input\n",
    "\n",
    "Additional properties for specific input types:\n",
    "- **Float inputs**: `min` and `max` values defining valid ranges\n",
    "- **Enumerable inputs**: `permitted_values` showing available options"
   ]
  },
  {
   "cell_type": "code",
   "execution_count": null,
   "id": "6c4825ba",
   "metadata": {},
   "outputs": [],
   "source": [
    "# Analyze units used across all inputs\n",
    "# This gives you an overview of what types of measurements are used in the scenario\n",
    "# Units like 'MW' (megawatts), '%' (percentage), 'PJ' (petajoules) indicate different input categories\n",
    "\n",
    "units_used = set([input.unit for input in scenario.inputs])\n",
    "print(f\"Found {len(units_used)} different units used across {len(scenario.inputs)} inputs:\")\n",
    "print(\"\\n\" + \"=\"*50)\n",
    "pprint.pp(sorted(units_used))"
   ]
  },
  {
   "cell_type": "code",
   "execution_count": null,
   "id": "38fd7d1c",
   "metadata": {},
   "outputs": [],
   "source": [
    "# Identify disabled inputs\n",
    "# Disabled inputs are those that cannot be modified, often due to dependencies or constraints\n",
    "# This helps understand which parameters are locked in the current scenario configuration\n",
    "\n",
    "disabled_inputs = [input.key for input in scenario.inputs if input.disabled]\n",
    "print(f\"Found {len(disabled_inputs)} disabled inputs:\")\n",
    "print(\"\\n\" + \"=\"*50)\n",
    "pprint.pp(disabled_inputs)"
   ]
  },
  {
   "cell_type": "code",
   "execution_count": null,
   "id": "f44d29ef",
   "metadata": {},
   "outputs": [],
   "source": [
    "# Display default values for all inputs\n",
    "# Default values represent the baseline scenario before any user modifications\n",
    "# This is useful for understanding the reference case and for resetting modifications\n",
    "\n",
    "default_values = { input.key: input.default for input in scenario.inputs }\n",
    "print(f\"Default values for {len(default_values)} inputs:\")\n",
    "print(\"\\n\" + \"=\"*50)\n",
    "pprint.pp(default_values)"
   ]
  },
  {
   "cell_type": "code",
   "execution_count": null,
   "id": "d980ed9b",
   "metadata": {},
   "outputs": [],
   "source": [
    "# Explore Float input constraints\n",
    "# Float inputs have minimum and maximum values that define valid ranges\n",
    "# This information is crucial for understanding input limitations and validation rules\n",
    "\n",
    "float_inputs = [input for input in scenario.inputs if hasattr(input, \"min\") and hasattr(input, \"max\")]\n",
    "print(f\"Found {len(float_inputs)} float inputs with min/max constraints:\")\n",
    "print(\"\\n\" + \"=\"*50)\n",
    "\n",
    "float_constraints = [\n",
    "    {\n",
    "        \"key\":     input.key,\n",
    "        \"min\":     input.min,\n",
    "        \"max\":     input.max,\n",
    "        \"default\": input.default,\n",
    "        \"unit\":    input.unit\n",
    "    }\n",
    "    for input in float_inputs\n",
    "]\n",
    "pprint.pp(float_constraints)"
   ]
  },
  {
   "cell_type": "markdown",
   "id": "curves_section",
   "metadata": {},
   "source": [
    "### Working with Custom Curves\n",
    "\n",
    "Custom curves represent time-series data that can be attached to specific inputs. These are typically used for:\n",
    "- Load profiles (electricity demand over time)\n",
    "- Production profiles (renewable energy output patterns)\n",
    "- Availability curves (when technologies are available)\n",
    "- Price curves (energy prices over time)\n",
    "\n",
    "The curves contain hourly data points for an entire year (8760 hours)."
   ]
  },
  {
   "cell_type": "code",
   "execution_count": null,
   "id": "1f2fe26a",
   "metadata": {},
   "outputs": [],
   "source": [
    "# List all custom curves attached to this scenario\n",
    "# Custom curves are time-series data (usually hourly for a full year)\n",
    "# They're used to define dynamic behavior like load profiles, production patterns, etc.\n",
    "\n",
    "attached_curves = scenario.custom_curves.attached_keys()\n",
    "print(f\"Found {len(attached_curves)} custom curves attached to this scenario:\")\n",
    "print(\"\\n\" + \"=\"*50)\n",
    "pprint.pp(attached_curves)"
   ]
  },
  {
   "cell_type": "code",
   "execution_count": null,
   "id": "f18f67df",
   "metadata": {},
   "outputs": [],
   "source": [
    "# Example: Display data from a specific curve\n",
    "# This shows how to access the actual time-series data from a custom curve\n",
    "# The curve_series() method returns the hourly values for the specified curve\n",
    "\n",
    "curve_key = 'interconnector_1_import_availability'\n",
    "if curve_key in scenario.custom_curves.attached_keys():\n",
    "    curve_data = scenario.curve_series(curve_key)\n",
    "    print(f\"Curve data for '{curve_key}':\")\n",
    "    print(f\"  Data points: {len(curve_data)}\")\n",
    "    print(f\"  First 10 values: {curve_data[:10]}\")\n",
    "    print(f\"  Data type: {type(curve_data)}\")\n",
    "else:\n",
    "    print(f\"Curve '{curve_key}' not found in this scenario.\")\n",
    "    print(\"Available curves:\", list(scenario.custom_curves.attached_keys()))"
   ]
  },
  {
   "cell_type": "markdown",
   "id": "sortables_section",
   "metadata": {},
   "source": [
    "### Exploring Sortables\n",
    "\n",
    "Sortables represent ordered lists of technologies or components within the energy system. They define priority orders for:\n",
    "- Merit order (which power plants run first)\n",
    "- Heat source priorities\n",
    "- Technology preferences\n",
    "\n",
    "The order of items in sortables affects how the energy system model calculates results."
   ]
  },
  {
   "cell_type": "code",
   "execution_count": null,
   "id": "4c90688f",
   "metadata": {},
   "outputs": [],
   "source": [
    "# Display sortable configurations\n",
    "# Sortables define the order/priority of different technologies in the energy system\n",
    "# For example, merit order determines which power plants are dispatched first\n",
    "# The order directly affects energy system calculations and results\n",
    "\n",
    "sortables_data = scenario.sortables.as_dict()\n",
    "print(f\"Found {len(sortables_data)} sortable configurations:\")\n",
    "print(\"\\n\" + \"=\"*50)\n",
    "pprint.pp(sortables_data)"
   ]
  },
  {
   "cell_type": "markdown",
   "id": "model_dump_section",
   "metadata": {},
   "source": [
    "### Complete Scenario Data Export\n",
    "\n",
    "The `model_dump()` method provides a complete export of all scenario data in a structured format. This includes:\n",
    "- All input values (both default and user-modified)\n",
    "- Custom curves data\n",
    "- Sortables configuration\n",
    "- Metadata about the scenario\n",
    "\n",
    "This is useful for:\n",
    "- Backup and restoration of scenario configurations\n",
    "- Detailed analysis of scenario structure\n",
    "- Integration with other tools or scripts"
   ]
  },
  {
   "cell_type": "code",
   "execution_count": null,
   "id": "b8a8518b",
   "metadata": {},
   "outputs": [],
   "source": [
    "# Export complete scenario data\n",
    "# model_dump() returns a comprehensive dictionary containing all scenario data\n",
    "# This includes inputs, curves, sortables, and metadata in a structured format\n",
    "# Useful for backup, detailed analysis, or integration with other tools\n",
    "\n",
    "complete_data = scenario.model_dump()\n",
    "print(f\"Complete scenario data structure:\")\n",
    "print(f\"  Main keys: {list(complete_data.keys())}\")\n",
    "print(f\"  Total size: {len(str(complete_data))} characters\")\n",
    "print(\"\\n\" + \"=\"*50)\n",
    "print(\"Note: Full data dump is very large. Showing structure only.\")\n",
    "print(\"Uncomment the line below to see the complete data:\")\n",
    "print(\"# pprint.pp(complete_data)\")"
   ]
  }
 ],
 "metadata": {
  "kernelspec": {
   "display_name": "pyetm-qKH2ozgc",
   "language": "python",
   "name": "python3"
  },
  "language_info": {
   "codemirror_mode": {
    "name": "ipython",
    "version": 3
   },
   "file_extension": ".py",
   "mimetype": "text/x-python",
   "name": "python",
   "nbconvert_exporter": "python",
   "nbformat_exporter": "python",
   "pygments_lexer": "ipython3",
   "version": "3.12.9"
  }
 },
 "nbformat": 4,
 "nbformat_minor": 5
}
