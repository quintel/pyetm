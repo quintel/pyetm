{
 "cells": [
  {
   "cell_type": "markdown",
   "id": "ddbe7ab2",
   "metadata": {},
   "source": [
    "# Scenario Examples\n",
    "\n",
    "This notebook demonstrates how to use the `Scenario` object within the pyetm package to retrieve and \n",
    "inspect data from an ETM scenario.\n",
    "\n",
    "Make sure you have a valid `ETM_API_TOKEN` set in your environment.\n",
    "\n",
    "## Structure\n",
    "\n",
    "This notebook is organized into two main sections:\n",
    "1. **Setup** - Run these cells first to set up your environment and load a scenario\n",
    "2. **Examples** - After setup is complete, these cells can be run in any order to explore different aspects of scenario data\n",
    "\n",
    "## Setup:"
   ]
  },
  {
   "cell_type": "code",
   "execution_count": null,
   "id": "59514b1f",
   "metadata": {},
   "outputs": [],
   "source": [
    "from example_helpers import setup_notebook\n",
    "from pyetm.models import Scenario\n",
    "\n",
    "setup_notebook()\n",
    "\n",
    "# Change the scenario id to anything you want! This is a scenario on pro.\n",
    "scenario = Scenario.load(2690288)"
   ]
  },
  {
   "cell_type": "markdown",
   "id": "4056266c",
   "metadata": {},
   "source": [
    "## Examples\n",
    "\n",
    "Basic scenario info:"
   ]
  },
  {
   "cell_type": "code",
   "execution_count": null,
   "id": "aca02e6c",
   "metadata": {},
   "outputs": [],
   "source": [
    "print(f\"Area: {scenario.area_code}\")\n",
    "print(f\"End year: {scenario.end_year}\")\n",
    "print(f\"Version: {scenario.version}\")"
   ]
  },
  {
   "cell_type": "markdown",
   "id": "b3026722",
   "metadata": {},
   "source": [
    "User inputs"
   ]
  },
  {
   "cell_type": "code",
   "execution_count": null,
   "id": "7b529ffa",
   "metadata": {},
   "outputs": [],
   "source": [
    "user_vals = scenario.user_values()\n",
    "print(f\"Modified inputs: {len(user_vals)}\")\n",
    "print(f\"First input: {list(user_vals.keys())[0]} = {list(user_vals.values())[0]}\")"
   ]
  },
  {
   "cell_type": "markdown",
   "id": "625977af",
   "metadata": {},
   "source": [
    "Example Input"
   ]
  },
  {
   "cell_type": "code",
   "execution_count": null,
   "id": "f9c453cf",
   "metadata": {},
   "outputs": [],
   "source": [
    "first_input = next(iter(scenario.inputs))\n",
    "print(f\"Key: {first_input.key}\")\n",
    "print(f\"Unit: {first_input.unit}\")\n",
    "print(f\"Default: {first_input.default}\")"
   ]
  },
  {
   "cell_type": "markdown",
   "id": "50ef3d36",
   "metadata": {},
   "source": [
    "Output curve (an export from the scenario)"
   ]
  },
  {
   "cell_type": "code",
   "execution_count": null,
   "id": "4289f9c4",
   "metadata": {},
   "outputs": [],
   "source": [
    "carrier_keys = list(scenario.output_curves.attached_keys())\n",
    "if carrier_keys:\n",
    "    first_carrier = carrier_keys[0]\n",
    "    carrier_data = list(scenario.all_output_curves())[0]\n",
    "    print(f\"Carrier curve: {first_carrier}\")\n",
    "    print(f\"Shape: {carrier_data.shape}\")"
   ]
  },
  {
   "cell_type": "markdown",
   "id": "af75d6e6",
   "metadata": {},
   "source": [
    "Sortables"
   ]
  },
  {
   "cell_type": "code",
   "execution_count": null,
   "id": "411ce7e1",
   "metadata": {},
   "outputs": [],
   "source": [
    "sortables = scenario.sortables.as_dict()\n",
    "if sortables:\n",
    "    first_sortable = list(sortables.keys())[0]\n",
    "    print(f\"Sortable: {first_sortable}\")\n",
    "    print(f\"Items: {len(sortables[first_sortable])}\")"
   ]
  },
  {
   "cell_type": "markdown",
   "id": "73192cdf",
   "metadata": {},
   "source": [
    "Gqueries"
   ]
  },
  {
   "cell_type": "code",
   "execution_count": null,
   "id": "1dbe4e91",
   "metadata": {},
   "outputs": [],
   "source": [
    "scenario.add_queries([\"dashboard_emissions\"])\n",
    "results = scenario.results()\n",
    "if results is not None:\n",
    "    print(f\"Query present result: {results['present'].iloc[0]:.2f}\")\n",
    "    print(f\"Query future result: {results['future'].iloc[0]:.2f}\")"
   ]
  }
 ],
 "metadata": {
  "kernelspec": {
   "display_name": "pyetm-qKH2ozgc",
   "language": "python",
   "name": "python3"
  },
  "language_info": {
   "codemirror_mode": {
    "name": "ipython",
    "version": 3
   },
   "file_extension": ".py",
   "mimetype": "text/x-python",
   "name": "python",
   "nbconvert_exporter": "python",
   "pygments_lexer": "ipython3",
   "version": "3.12.9"
  }
 },
 "nbformat": 4,
 "nbformat_minor": 5
}
