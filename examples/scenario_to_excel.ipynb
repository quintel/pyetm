{
 "cells": [
  {
   "cell_type": "markdown",
   "id": "930300db",
   "metadata": {},
   "source": [
    "## Preamble"
   ]
  },
  {
   "cell_type": "code",
   "execution_count": 1,
   "id": "4e9a9e7c",
   "metadata": {},
   "outputs": [
    {
     "name": "stdout",
     "output_type": "stream",
     "text": [
      "Environment setup complete\n",
      "  Using ETM API at     https://engine.energytransitionmodel.com/api/v3\n",
      "  Token loaded?        True\n",
      "API connection ready\n"
     ]
    }
   ],
   "source": [
    "from example_helpers import setup_notebook\n",
    "from pyetm.models import Scenario\n",
    "\n",
    "setup_notebook()"
   ]
  },
  {
   "cell_type": "markdown",
   "id": "1f4414c0",
   "metadata": {},
   "source": [
    "## Picking my scenario"
   ]
  },
  {
   "cell_type": "markdown",
   "id": "c3cd461f",
   "metadata": {},
   "source": [
    "Use an API session ID to load up one of your scenarios.\n"
   ]
  },
  {
   "cell_type": "code",
   "execution_count": 2,
   "id": "c4f42def",
   "metadata": {},
   "outputs": [],
   "source": [
    "# Example beta scenario\n",
    "# scenario = Scenario.load(2690506)\n",
    "\n",
    "# Example pro scenario\n",
    "scenario = Scenario.load(1340415)"
   ]
  },
  {
   "cell_type": "markdown",
   "id": "8d946757",
   "metadata": {},
   "source": [
    "## Create a Packer\n",
    "\n",
    "The scenario packer allows you to collect scenarios and define what information you want to extract from all of them. It helps to collect all info into dataframes or Excel.\n",
    "\n",
    "- **Main info** with `main_info()` you display all meta information about the scenarios, like area code and end years;\n",
    "\n",
    "- Input settings\n",
    "    - **Inputs** `inputs()` displays all inputs for the scenario including their unit, default and user-set values;\n",
    "    - **Custom curves** using `custom_curves()` you can retrieve and display the curves uploaded to the scenario;\n",
    "    - **Sortables** `sortables()` shows all user sortables set for the scenario, like heat network orders, etc;\n",
    "- Outputs:\n",
    "    - **GQuery results** with `gquery_results()` you can retrieve the queries that were prepared for the scenarios;\n",
    "    - **Carrier curves** `carrier_curves()` downloads and shows the carreir curves requested for the scenarios.\n",
    "\n",
    "\n",
    "Scenarios can be added to a packer in multiple ways:\n",
    "\n",
    "- `add(*scenarios)`  will ready the scenario for all 6 packs (or Excel tabs) described above\n",
    "- `add_inputs(*scenarios)` will only ready the scenarios for the inputs dataframe or Excel tab\n",
    "- `add_sortables(*scenarios)` will only ready the scenarios for the sortables dataframe or Excel tab\n",
    "- `add_custom_curves(*scenarios)` will only ready the scenarios for the custom_curves dataframe or Excel tab\n",
    "- `add_carrier_curves(*scenarios)` will only ready the scenarios for the custom_curves dataframe or Excel tab\n",
    "\n",
    "If a scenario is added in any of the individual packs, it will be automatically added for main info and prepared gqueries."
   ]
  },
  {
   "cell_type": "markdown",
   "id": "a9d9214a",
   "metadata": {},
   "source": [
    "-----------------\n",
    "\n",
    "NOTE: the packer currently only works for a single scenario!\n",
    "\n",
    "-----------------"
   ]
  },
  {
   "cell_type": "code",
   "execution_count": 3,
   "id": "fa8ac6ab",
   "metadata": {},
   "outputs": [
    {
     "name": "stdout",
     "output_type": "stream",
     "text": [
      "                                                   1340415                    \\\n",
      "                                                      unit    value  default   \n",
      "input                                                                          \n",
      "climate_relevant_co2_biomass_gas_future                  %      0.0      0.0   \n",
      "climate_relevant_co2_biomass_gas_present                 %      0.0      0.0   \n",
      "climate_relevant_co2_biomass_liquid_future               %      0.0      0.0   \n",
      "climate_relevant_co2_biomass_liquid_present              %      0.0      0.0   \n",
      "climate_relevant_co2_biomass_solid_future                %      0.0      0.0   \n",
      "...                                                    ...      ...      ...   \n",
      "capacity_of_energy_battery_wind_turbine_inland          MW      0.0      0.0   \n",
      "capacity_of_energy_power_hybrid_wind_turbine_of...      MW     None      0.0   \n",
      "capacity_of_energy_power_wind_turbine_coastal           MW      0.0      0.0   \n",
      "capacity_of_energy_power_wind_turbine_inland            MW  15000.0  15000.0   \n",
      "capacity_of_energy_power_wind_turbine_offshore          MW  37000.0  37000.0   \n",
      "\n",
      "                                                   1340416                     \n",
      "                                                      unit value      default  \n",
      "input                                                                          \n",
      "climate_relevant_co2_biomass_gas_future                  %  None          0.0  \n",
      "climate_relevant_co2_biomass_gas_present                 %  None          0.0  \n",
      "climate_relevant_co2_biomass_liquid_future               %  None          0.0  \n",
      "climate_relevant_co2_biomass_liquid_present              %  None          0.0  \n",
      "climate_relevant_co2_biomass_solid_future                %  None          0.0  \n",
      "...                                                    ...   ...          ...  \n",
      "capacity_of_energy_battery_wind_turbine_inland          MW  None          0.0  \n",
      "capacity_of_energy_power_hybrid_wind_turbine_of...      MW  None          0.0  \n",
      "capacity_of_energy_power_wind_turbine_coastal           MW  None  1106.189347  \n",
      "capacity_of_energy_power_wind_turbine_inland            MW  None   2421.16051  \n",
      "capacity_of_energy_power_wind_turbine_offshore          MW  None   956.994305  \n",
      "\n",
      "[1318 rows x 6 columns]\n",
      "           1340415 1340416\n",
      "           1340415 1340416\n",
      "end_year      2050    2020\n",
      "private      False   False\n",
      "area_code   nl2019  nl2019\n",
      "template   1018149    None\n"
     ]
    }
   ],
   "source": [
    "from pyetm.models import ScenarioPacker\n",
    "\n",
    "packer = ScenarioPacker()\n",
    "\n",
    "# Ready the scenario for inputs\n",
    "packer.add_inputs(scenario)\n",
    "\n",
    "scenario2 = Scenario.load(1340416)\n",
    "packer.add_inputs(scenario2)\n",
    "\n",
    "# Main info is automatically readied\n",
    "print(packer.inputs())\n",
    "print(packer.main_info())"
   ]
  },
  {
   "cell_type": "markdown",
   "id": "ed1cefd4",
   "metadata": {},
   "source": [
    "When you add gqueries to a scenario which is connected to the packer, these queries will be readied for the pack."
   ]
  },
  {
   "cell_type": "code",
   "execution_count": null,
   "id": "739e2a12",
   "metadata": {},
   "outputs": [
    {
     "name": "stdout",
     "output_type": "stream",
     "text": [
      "MultiIndex([(1340415,    'unit'),\n",
      "            (1340415, 'present'),\n",
      "            (1340415,  'future')],\n",
      "           )\n"
     ]
    }
   ],
   "source": [
    "scenario.add_queries(\n",
    "    [\"dashboard_total_costs\", \"dashboard_co2_emissions_versus_start_year\"]\n",
    ")\n",
    "\n",
    "import pandas as pd\n",
    "cols = [scenario.id for scenario in packer._scenarios()]\n",
    "data = pd.concat(\n",
    "    [scenario.results() for scenario in packer._scenarios()],\n",
    "    axis=1,\n",
    "    keys=cols\n",
    ")\n",
    "\n",
    "# col = [col for col in data.columns]\n",
    "print(data.columns.get_level_values(0))\n",
    "\n",
    "# print(packer.gquery_results())"
   ]
  },
  {
   "cell_type": "markdown",
   "id": "c924ac3d",
   "metadata": {},
   "source": [
    "Queries can be added on-the-go. When the packer is exported to Excel, all requested queries will show up."
   ]
  },
  {
   "cell_type": "code",
   "execution_count": null,
   "id": "ce5e2bdb",
   "metadata": {},
   "outputs": [
    {
     "ename": "TypeError",
     "evalue": "'MultiIndex' object is not callable",
     "output_type": "error",
     "traceback": [
      "\u001b[31mTypeError\u001b[39m\u001b[31m:\u001b[39m 'MultiIndex' object is not callable\n"
     ]
    }
   ],
   "source": [
    "scenario2.add_queries(\n",
    "    [\"dashboard_emissions\"]\n",
    ")\n",
    "\n",
    "packer.to_excel('my_excel.xlsx')"
   ]
  }
 ],
 "metadata": {
  "kernelspec": {
   "display_name": "pyetm-FWBOHxp3",
   "language": "python",
   "name": "python3"
  },
  "language_info": {
   "codemirror_mode": {
    "name": "ipython",
    "version": 3
   },
   "file_extension": ".py",
   "mimetype": "text/x-python",
   "name": "python",
   "nbconvert_exporter": "python",
   "pygments_lexer": "ipython3",
   "version": "3.12.11"
  }
 },
 "nbformat": 4,
 "nbformat_minor": 5
}
