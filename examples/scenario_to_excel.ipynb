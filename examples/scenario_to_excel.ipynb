{
 "cells": [
  {
   "cell_type": "markdown",
   "id": "930300db",
   "metadata": {},
   "source": [
    "## Preamble"
   ]
  },
  {
   "cell_type": "code",
   "execution_count": 3,
   "id": "4e9a9e7c",
   "metadata": {},
   "outputs": [
    {
     "name": "stdout",
     "output_type": "stream",
     "text": [
      "Using ETM API at     http://localhost:3000/api/v3\n",
      "Token loaded?        True\n"
     ]
    }
   ],
   "source": [
    "# Setting up everything for you!\n",
    "\n",
    "import os, sys\n",
    "import pprint\n",
    "from pathlib import Path\n",
    "\n",
    "project_root = Path(os.getcwd()).parent\n",
    "src_path     = project_root / \"src\"\n",
    "if str(src_path) not in sys.path:\n",
    "    sys.path.insert(0, str(src_path))\n",
    "\n",
    "# Hide the trackback for now\n",
    "\n",
    "ipython = get_ipython()\n",
    "\n",
    "def hide_traceback(exc_tuple=None, filename=None, tb_offset=None,\n",
    "                   exception_only=False, running_compiled_code=False):\n",
    "    etype, value, tb = sys.exc_info()\n",
    "    return ipython._showtraceback(etype, value, ipython.InteractiveTB.get_exception_only(etype, value))\n",
    "\n",
    "ipython.showtraceback = hide_traceback\n",
    "\n",
    "# Import pyETM\n",
    "\n",
    "from pyetm.config.settings import get_settings\n",
    "from pyetm.models import Scenario\n",
    "\n",
    "# Check if our API is ready!\n",
    "\n",
    "print(\"Using ETM API at    \",       get_settings().base_url)\n",
    "print(\"Token loaded?       \",       bool(get_settings().etm_api_token))"
   ]
  },
  {
   "cell_type": "markdown",
   "id": "1f4414c0",
   "metadata": {},
   "source": [
    "## Picking my scenario"
   ]
  },
  {
   "cell_type": "code",
   "execution_count": 4,
   "id": "c4f42def",
   "metadata": {},
   "outputs": [],
   "source": [
    "scenario = Scenario.load(2690506)"
   ]
  },
  {
   "cell_type": "markdown",
   "id": "84875699",
   "metadata": {},
   "source": [
    "## Curves to pandas series"
   ]
  },
  {
   "cell_type": "code",
   "execution_count": 5,
   "id": "01df9451",
   "metadata": {},
   "outputs": [
    {
     "name": "stdout",
     "output_type": "stream",
     "text": [
      "0       26.00\n",
      "1       26.00\n",
      "2       14.48\n",
      "3        0.01\n",
      "4        0.02\n",
      "        ...  \n",
      "8755     0.01\n",
      "8756     0.01\n",
      "8757     0.01\n",
      "8758     0.02\n",
      "8759     0.00\n",
      "Name: interconnector_2_price, Length: 8760, dtype: float64\n"
     ]
    }
   ],
   "source": [
    "# Custom curves\n",
    "if scenario.custom_curves.is_attached(\"interconnector_2_price\"):\n",
    "    print(\n",
    "        scenario.custom_curve_series(\"interconnector_2_price\")\n",
    "    )"
   ]
  },
  {
   "cell_type": "code",
   "execution_count": 6,
   "id": "81b4136a",
   "metadata": {},
   "outputs": [
    {
     "name": "stdout",
     "output_type": "stream",
     "text": [
      "Curve found: True\n",
      "Direct retrieve: <class 'pandas.core.frame.DataFrame'>\n",
      "get_contents: <class 'pandas.core.frame.DataFrame'>\n",
      "scenario method: <class 'pandas.core.frame.DataFrame'>\n"
     ]
    }
   ],
   "source": [
    "from pyetm.clients.base_client import BaseClient\n",
    "\n",
    "\n",
    "curve = scenario.carrier_curves._find(\"electricity_price\")\n",
    "print(f\"Curve found: {curve is not None}\")\n",
    "\n",
    "if curve:\n",
    "    # Test direct curve retrieval\n",
    "    direct_result = curve.retrieve(BaseClient(), scenario)\n",
    "    print(f\"Direct retrieve: {type(direct_result)}\")\n",
    "\n",
    "    # Test via get_contents\n",
    "    contents_result = scenario.carrier_curves.get_contents(scenario, \"electricity_price\")\n",
    "    print(f\"get_contents: {type(contents_result)}\")\n",
    "\n",
    "    # Test via scenario method\n",
    "    scenario_result = scenario.carrier_curve_series(\"electricity_price\")\n",
    "    print(f\"scenario method: {type(scenario_result)}\")\n"
   ]
  },
  {
   "cell_type": "code",
   "execution_count": 7,
   "id": "d1ad931b",
   "metadata": {},
   "outputs": [
    {
     "name": "stdout",
     "output_type": "stream",
     "text": [
      "Available carrier curves: ['merit_order', 'electricity_price', 'heat_network', 'agriculture_heat', 'household_heat', 'buildings_heat', 'hydrogen', 'network_gas', 'residual_load', 'hydrogen_integral_cost']\n",
      "Result: <class 'pandas.core.frame.DataFrame'>\n",
      "Shape: (8760, 1)\n",
      "First 5 values:    Price (Euros)\n",
      "0       5.450539\n",
      "1       5.450539\n",
      "2       5.450539\n",
      "3       0.010000\n",
      "4       0.010000\n"
     ]
    }
   ],
   "source": [
    "print(f\"Available carrier curves: {list(scenario.carrier_curves.attached_keys())}\")\n",
    "result = scenario.carrier_curve_series(\"electricity_price\")\n",
    "print(f\"Result: {type(result)}\")\n",
    "if result is not None:\n",
    "    print(f\"Shape: {result.shape}\")\n",
    "    print(f\"First 5 values: {result.head()}\")"
   ]
  },
  {
   "cell_type": "code",
   "execution_count": 8,
   "id": "6da1cf27",
   "metadata": {},
   "outputs": [
    {
     "name": "stdout",
     "output_type": "stream",
     "text": [
      "Fetching merit_order... (8760 points)\n",
      "Fetching electricity_price... (8760 points)\n",
      "Fetching heat_network... (8760 points)\n",
      "Fetching agriculture_heat... (8760 points)\n",
      "Fetching household_heat... (8760 points)\n",
      "Fetching buildings_heat... (8760 points)\n",
      "Fetching hydrogen... (8760 points)\n",
      "Fetching network_gas... (8760 points)\n",
      "Fetching residual_load... (8760 points)\n",
      "Fetching hydrogen_integral_cost... (8760 points)\n",
      "   Successfully fetched: 10 curves\n",
      "   Failed: 0 curves\n"
     ]
    }
   ],
   "source": [
    "curve_count = 0\n",
    "failed_curves = []\n",
    "\n",
    "for curve_name in scenario.carrier_curves.attached_keys():\n",
    "    print(f\"Fetching {curve_name}...\", end=\" \")\n",
    "\n",
    "    try:\n",
    "        # This will fetch and cache the curves\n",
    "        result = scenario.carrier_curve_series(curve_name)\n",
    "\n",
    "        if result is not None:\n",
    "            print(f\"({result.shape[0]} points)\")\n",
    "            curve_count += 1\n",
    "        else:\n",
    "            print(\"No data\")\n",
    "            failed_curves.append(curve_name)\n",
    "\n",
    "    except Exception as e:\n",
    "        print(f\"Error: {e}\")\n",
    "        failed_curves.append(curve_name)\n",
    "\n",
    "print(f\"   Successfully fetched: {curve_count} curves\")\n",
    "print(f\"   Failed: {len(failed_curves)} curves\")\n",
    "\n",
    "if failed_curves:\n",
    "    print(f\"   Failed curves: {failed_curves}\")\n"
   ]
  },
  {
   "cell_type": "markdown",
   "id": "27c78f1c",
   "metadata": {},
   "source": []
  },
  {
   "cell_type": "code",
   "execution_count": 9,
   "id": "c892c2a6",
   "metadata": {},
   "outputs": [
    {
     "name": "stdout",
     "output_type": "stream",
     "text": [
      "                                                   unit    value  default\n",
      "climate_relevant_co2_biomass_gas_future               %      0.0      0.0\n",
      "climate_relevant_co2_biomass_gas_present              %      0.0      0.0\n",
      "climate_relevant_co2_biomass_liquid_future            %      0.0      0.0\n",
      "climate_relevant_co2_biomass_liquid_present           %      0.0      0.0\n",
      "climate_relevant_co2_biomass_solid_future             %      0.0      0.0\n",
      "...                                                 ...      ...      ...\n",
      "capacity_of_energy_battery_wind_turbine_inland       MW      0.0      0.0\n",
      "capacity_of_energy_power_hybrid_wind_turbine_of...   MW     None      0.0\n",
      "capacity_of_energy_power_wind_turbine_coastal        MW      0.0      0.0\n",
      "capacity_of_energy_power_wind_turbine_inland         MW  10000.0  10000.0\n",
      "capacity_of_energy_power_wind_turbine_offshore       MW  38000.0  38000.0\n",
      "\n",
      "[1318 rows x 3 columns]\n",
      "           2690506\n",
      "end_year      2050\n",
      "private      False\n",
      "area_code   nl2019\n",
      "template   2402170\n"
     ]
    }
   ],
   "source": [
    "from pyetm.models import ScenarioPacker\n",
    "\n",
    "packer = ScenarioPacker()\n",
    "\n",
    "packer.add_inputs(scenario)\n",
    "packer.add_custom_curves(scenario)\n",
    "packer.add_carrier_curves(scenario)\n",
    "\n",
    "print(packer.inputs())\n",
    "print(packer.main_info())\n",
    "\n",
    "# print(packer.custom_curves())\n"
   ]
  },
  {
   "cell_type": "code",
   "execution_count": 10,
   "id": "1dafba21",
   "metadata": {},
   "outputs": [],
   "source": [
    "packer.to_excel('my_excel.xlsx')"
   ]
  }
 ],
 "metadata": {
  "kernelspec": {
   "display_name": "pyetm-qKH2ozgc",
   "language": "python",
   "name": "python3"
  },
  "language_info": {
   "codemirror_mode": {
    "name": "ipython",
    "version": 3
   },
   "file_extension": ".py",
   "mimetype": "text/x-python",
   "name": "python",
   "nbconvert_exporter": "python",
   "pygments_lexer": "ipython3",
   "version": "3.12.9"
  }
 },
 "nbformat": 4,
 "nbformat_minor": 5
}
