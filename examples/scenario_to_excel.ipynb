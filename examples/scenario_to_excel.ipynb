{
 "cells": [
  {
   "cell_type": "markdown",
   "id": "930300db",
   "metadata": {},
   "source": [
    "## Preamble"
   ]
  },
  {
   "cell_type": "code",
   "execution_count": 1,
   "id": "4e9a9e7c",
   "metadata": {},
   "outputs": [
    {
     "name": "stdout",
     "output_type": "stream",
     "text": [
      "Using ETM API at     https://engine.energytransitionmodel.com/api/v3\n",
      "Token loaded?        True\n"
     ]
    }
   ],
   "source": [
    "# Setting up everything for you!\n",
    "\n",
    "import os, sys\n",
    "import pprint\n",
    "from pathlib import Path\n",
    "\n",
    "# Hide the trackback for now\n",
    "\n",
    "ipython = get_ipython()\n",
    "\n",
    "def hide_traceback(exc_tuple=None, filename=None, tb_offset=None,\n",
    "                   exception_only=False, running_compiled_code=False):\n",
    "    etype, value, tb = sys.exc_info()\n",
    "    return ipython._showtraceback(etype, value, ipython.InteractiveTB.get_exception_only(etype, value))\n",
    "\n",
    "ipython.showtraceback = hide_traceback\n",
    "\n",
    "# Import pyETM\n",
    "\n",
    "from pyetm.config.settings import get_settings\n",
    "from pyetm.models import Scenario\n",
    "\n",
    "# Check if our API is ready!\n",
    "\n",
    "print(\"Using ETM API at    \",       get_settings().base_url)\n",
    "print(\"Token loaded?       \",       bool(get_settings().etm_api_token))"
   ]
  },
  {
   "cell_type": "markdown",
   "id": "1f4414c0",
   "metadata": {},
   "source": [
    "## Picking my scenario"
   ]
  },
  {
   "cell_type": "code",
   "execution_count": 2,
   "id": "c4f42def",
   "metadata": {},
   "outputs": [],
   "source": [
    "scenario = Scenario.load(1340415)"
   ]
  },
  {
   "cell_type": "markdown",
   "id": "84875699",
   "metadata": {},
   "source": [
    "## Curves to pandas series"
   ]
  },
  {
   "cell_type": "code",
   "execution_count": 3,
   "id": "01df9451",
   "metadata": {},
   "outputs": [
    {
     "name": "stdout",
     "output_type": "stream",
     "text": [
      "0       26.00\n",
      "1       26.00\n",
      "2       14.48\n",
      "3        0.01\n",
      "4        0.02\n",
      "        ...  \n",
      "8755     0.01\n",
      "8756     0.01\n",
      "8757     0.01\n",
      "8758     0.02\n",
      "8759     0.00\n",
      "Name: interconnector_2_price, Length: 8760, dtype: float64\n"
     ]
    }
   ],
   "source": [
    "if scenario.custom_curves.is_attached(\"interconnector_2_price\"):\n",
    "    print(\n",
    "        scenario.curve_series(\"interconnector_2_price\")\n",
    "    )"
   ]
  },
  {
   "cell_type": "markdown",
   "id": "27c78f1c",
   "metadata": {},
   "source": []
  },
  {
   "cell_type": "code",
   "execution_count": 4,
   "id": "c892c2a6",
   "metadata": {},
   "outputs": [
    {
     "name": "stdout",
     "output_type": "stream",
     "text": [
      "                                                   unit    value  default\n",
      "climate_relevant_co2_biomass_gas_future               %      0.0      0.0\n",
      "climate_relevant_co2_biomass_gas_present              %      0.0      0.0\n",
      "climate_relevant_co2_biomass_liquid_future            %      0.0      0.0\n",
      "climate_relevant_co2_biomass_liquid_present           %      0.0      0.0\n",
      "climate_relevant_co2_biomass_solid_future             %      0.0      0.0\n",
      "...                                                 ...      ...      ...\n",
      "capacity_of_energy_battery_wind_turbine_inland       MW      0.0      0.0\n",
      "capacity_of_energy_power_hybrid_wind_turbine_of...   MW     None      0.0\n",
      "capacity_of_energy_power_wind_turbine_coastal        MW      0.0      0.0\n",
      "capacity_of_energy_power_wind_turbine_inland         MW  15000.0  15000.0\n",
      "capacity_of_energy_power_wind_turbine_offshore       MW  37000.0  37000.0\n",
      "\n",
      "[1318 rows x 3 columns]\n"
     ]
    }
   ],
   "source": [
    "from pyetm.models import ScenarioPacker\n",
    "\n",
    "packer = ScenarioPacker()\n",
    "\n",
    "packer.add_inputs(scenario)\n",
    "\n",
    "print(packer.collective_inputs())"
   ]
  },
  {
   "cell_type": "code",
   "execution_count": null,
   "id": "1dafba21",
   "metadata": {},
   "outputs": [
    {
     "ename": "FileCreateError",
     "evalue": "[Errno 2] No such file or directory: 'output/my_excel.xlsx'",
     "output_type": "error",
     "traceback": [
      "\u001b[31mFileCreateError\u001b[39m\u001b[31m:\u001b[39m [Errno 2] No such file or directory: 'output/my_excel.xlsx'\n"
     ]
    }
   ],
   "source": [
    "packer.to_excel('my_excel.xlsx')"
   ]
  }
 ],
 "metadata": {
  "kernelspec": {
   "display_name": "pyetm-FWBOHxp3",
   "language": "python",
   "name": "python3"
  },
  "language_info": {
   "codemirror_mode": {
    "name": "ipython",
    "version": 3
   },
   "file_extension": ".py",
   "mimetype": "text/x-python",
   "name": "python",
   "nbconvert_exporter": "python",
   "pygments_lexer": "ipython3",
   "version": "3.12.11"
  }
 },
 "nbformat": 4,
 "nbformat_minor": 5
}
