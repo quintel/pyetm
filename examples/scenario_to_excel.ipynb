{
 "cells": [
  {
   "cell_type": "markdown",
   "id": "930300db",
   "metadata": {},
   "source": [
    "## Preamble"
   ]
  },
  {
   "cell_type": "code",
   "execution_count": 7,
   "id": "4e9a9e7c",
   "metadata": {},
   "outputs": [
    {
     "name": "stdout",
     "output_type": "stream",
     "text": [
      "Environment setup complete\n",
      "  Using ETM API at     http://localhost:3000/api/v3\n",
      "  Token loaded?        True\n",
      "API connection ready\n"
     ]
    }
   ],
   "source": [
    "from example_helpers import setup_notebook\n",
    "from pyetm.models import Scenario\n",
    "\n",
    "setup_notebook()"
   ]
  },
  {
   "cell_type": "markdown",
   "id": "1f4414c0",
   "metadata": {},
   "source": [
    "## Picking my scenario"
   ]
  },
  {
   "cell_type": "markdown",
   "id": "c3cd461f",
   "metadata": {},
   "source": [
    "Use an API session ID to load up one of your scenarios.\n"
   ]
  },
  {
   "cell_type": "code",
   "execution_count": 8,
   "id": "c4f42def",
   "metadata": {},
   "outputs": [],
   "source": [
    "# Example beta scenario\n",
    "# scenario = Scenario.load(2690506)\n",
    "\n",
    "# Example pro scenario\n",
    "scenario = Scenario.load(2690288)"
   ]
  },
  {
   "cell_type": "markdown",
   "id": "8d946757",
   "metadata": {},
   "source": [
    "## Create a Packer\n",
    "\n",
    "The scenario packer allows you to collect scenarios and define what information you want to extract from all of them. It helps to collect all info into dataframes or Excel.\n",
    "\n",
    "- **Main info** with `main_info()` you display all meta information about the scenarios, like area code and end years;\n",
    "\n",
    "- Input settings\n",
    "    - **Inputs** `inputs()` displays all inputs for the scenario including their unit, default and user-set values;\n",
    "    - **Custom curves** using `custom_curves()` you can retrieve and display the curves uploaded to the scenario;\n",
    "    - **Sortables** `sortables()` shows all user sortables set for the scenario, like heat network orders, etc;\n",
    "- Outputs:\n",
    "    - **GQuery results** with `gquery_results()` you can retrieve the queries that were prepared for the scenarios;\n",
    "    - **Carrier curves** `carrier_curves()` downloads and shows the carreir curves requested for the scenarios.\n",
    "\n",
    "\n",
    "Scenarios can be added to a packer in multiple ways:\n",
    "\n",
    "- `add(*scenarios)`  will ready the scenario for all 6 packs (or Excel tabs) described above\n",
    "- `add_inputs(*scenarios)` will only ready the scenarios for the inputs dataframe or Excel tab\n",
    "- `add_sortables(*scenarios)` will only ready the scenarios for the sortables dataframe or Excel tab\n",
    "- `add_custom_curves(*scenarios)` will only ready the scenarios for the custom_curves dataframe or Excel tab\n",
    "- `add_carrier_curves(*scenarios)` will only ready the scenarios for the custom_curves dataframe or Excel tab\n",
    "\n",
    "If a scenario is added in any of the individual packs, it will be automatically added for main info and prepared gqueries."
   ]
  },
  {
   "cell_type": "markdown",
   "id": "a9d9214a",
   "metadata": {},
   "source": [
    "-----------------\n",
    "\n",
    "NOTE: the packer currently only works for a single scenario!\n",
    "\n",
    "-----------------"
   ]
  },
  {
   "cell_type": "code",
   "execution_count": 9,
   "id": "fa8ac6ab",
   "metadata": {},
   "outputs": [
    {
     "name": "stdout",
     "output_type": "stream",
     "text": [
      "scenario                                            unit 2690509             \\\n",
      "                                                           value    default   \n",
      "input                                                                         \n",
      "agriculture_bio_kerosene_in_crude_oil_share            %     0.0        0.0   \n",
      "agriculture_biodiesel_in_crude_oil_share               %     0.0  53.562837   \n",
      "agriculture_burner_crude_oil_share                     %     0.0   0.522009   \n",
      "agriculture_burner_hydrogen_share                      %    20.0        0.0   \n",
      "agriculture_burner_network_gas_share                   %     0.0  34.320411   \n",
      "...                                                  ...     ...        ...   \n",
      "wtp_of_industry_chemicals_other_flexibility_p2h...  euro    25.0       22.0   \n",
      "wtp_of_industry_chemicals_refineries_flexibilit...  euro    25.0       22.0   \n",
      "wtp_of_industry_other_food_flexibility_p2h_elec...  euro    25.0       22.0   \n",
      "wtp_of_industry_other_paper_flexibility_p2h_ele...  euro    25.0       22.0   \n",
      "wtp_of_transport_car_flexibility_p2p_electricity    euro     5.0        4.1   \n",
      "\n",
      "scenario                                           2690288          \n",
      "                                                     value default  \n",
      "input                                                               \n",
      "agriculture_bio_kerosene_in_crude_oil_share            0.0     0.0  \n",
      "agriculture_biodiesel_in_crude_oil_share               0.0     0.0  \n",
      "agriculture_burner_crude_oil_share                     0.0     0.0  \n",
      "agriculture_burner_hydrogen_share                      0.0     0.0  \n",
      "agriculture_burner_network_gas_share                   0.0     0.0  \n",
      "...                                                    ...     ...  \n",
      "wtp_of_industry_chemicals_other_flexibility_p2h...    25.0    25.0  \n",
      "wtp_of_industry_chemicals_refineries_flexibilit...    25.0    25.0  \n",
      "wtp_of_industry_other_food_flexibility_p2h_elec...    25.0    25.0  \n",
      "wtp_of_industry_other_paper_flexibility_p2h_ele...    25.0    25.0  \n",
      "wtp_of_transport_car_flexibility_p2p_electricity       5.0     5.0  \n",
      "\n",
      "[1318 rows x 5 columns]\n",
      "          2690509  2690288\n",
      "end_year     2050     2050\n",
      "private     False    False\n",
      "area_code  nl2019   nl2019\n",
      "template     None  2402166\n"
     ]
    }
   ],
   "source": [
    "from pyetm.models import ScenarioPacker\n",
    "\n",
    "packer = ScenarioPacker()\n",
    "\n",
    "# Ready the scenario for inputs\n",
    "packer.add_inputs(scenario)\n",
    "\n",
    "scenario2 = Scenario.load(2690509)\n",
    "packer.add_inputs(scenario2)\n",
    "\n",
    "# Main info is automatically readied\n",
    "print(packer.inputs())\n",
    "print(packer.main_info())"
   ]
  },
  {
   "cell_type": "markdown",
   "id": "ed1cefd4",
   "metadata": {},
   "source": [
    "When you add gqueries to a scenario which is connected to the packer, these queries will be readied for the pack."
   ]
  },
  {
   "cell_type": "code",
   "execution_count": 10,
   "id": "739e2a12",
   "metadata": {},
   "outputs": [
    {
     "name": "stdout",
     "output_type": "stream",
     "text": [
      "Index([2690288, 2690288, 2690288], dtype='int64')\n"
     ]
    }
   ],
   "source": [
    "scenario.add_queries(\n",
    "    [\"dashboard_total_costs\", \"dashboard_co2_emissions_versus_start_year\"]\n",
    ")\n",
    "\n",
    "import pandas as pd\n",
    "cols = [scenario.id for scenario in packer._all_scenarios()]\n",
    "data = pd.concat(\n",
    "    [scenario.results() for scenario in packer._all_scenarios()],\n",
    "    axis=1,\n",
    "    keys=cols\n",
    ")\n",
    "\n",
    "# col = [col for col in data.columns]\n",
    "print(data.columns.get_level_values(0))\n",
    "\n",
    "# print(packer.gquery_results())"
   ]
  },
  {
   "cell_type": "markdown",
   "id": "c924ac3d",
   "metadata": {},
   "source": [
    "Queries can be added on-the-go. When the packer is exported to Excel, all requested queries will show up."
   ]
  },
  {
   "cell_type": "code",
   "execution_count": 11,
   "id": "ce5e2bdb",
   "metadata": {},
   "outputs": [],
   "source": [
    "scenario2.add_queries(\n",
    "    [\"dashboard_emissions\"]\n",
    ")\n",
    "\n",
    "packer.to_excel('my_excel.xlsx')"
   ]
  },
  {
   "cell_type": "markdown",
   "id": "44c468d1",
   "metadata": {},
   "source": [
    "# Create multiple packers\n",
    "\n"
   ]
  },
  {
   "cell_type": "code",
   "execution_count": 12,
   "id": "0652771f",
   "metadata": {},
   "outputs": [
    {
     "name": "stdout",
     "output_type": "stream",
     "text": [
      "Empty DataFrame\n",
      "Columns: []\n",
      "Index: []\n"
     ]
    }
   ],
   "source": [
    "# Load multiple scenarios for comparison\n",
    "scenario_a = Scenario.load(2690506)  # These are just random at the moment\n",
    "scenario_b = Scenario.load(2690288)\n",
    "scenario_c = Scenario.load(2690503)\n",
    "\n",
    "# Make a new packer\n",
    "packer = ScenarioPacker()\n",
    "\n",
    "# Get generic meta info for all scenarios in the packer\n",
    "main_df = packer.main_info()\n",
    "print(main_df)"
   ]
  },
  {
   "cell_type": "code",
   "execution_count": 13,
   "id": "9611c640",
   "metadata": {},
   "outputs": [
    {
     "name": "stdout",
     "output_type": "stream",
     "text": [
      "Gqueries:      \n",
      "                                               unit     2690288     2690503  \\\n",
      "gquery                                                                        \n",
      "dashboard_co2_emissions_versus_start_year    factor   -1.004340   -0.324385   \n",
      "dashboard_total_costs                      bln_euro   54.600271   63.523249   \n",
      "final_demand_from_households_energetic           PJ  245.072081  349.944243   \n",
      "final_demand_from_industry_energetic             PJ  525.206828  696.221878   \n",
      "final_demand_from_transport_energetic            PJ  264.130299  464.359945   \n",
      "\n",
      "                                              2690506  \n",
      "gquery                                                 \n",
      "dashboard_co2_emissions_versus_start_year   -1.026581  \n",
      "dashboard_total_costs                       64.227005  \n",
      "final_demand_from_households_energetic     258.986634  \n",
      "final_demand_from_industry_energetic       815.856409  \n",
      "final_demand_from_transport_energetic      290.607481  \n",
      "Inputs:      \n",
      "scenario                                           unit 2690288          \\\n",
      "                                                          value default   \n",
      "input                                                                     \n",
      "agriculture_bio_kerosene_in_crude_oil_share           %     0.0     0.0   \n",
      "agriculture_biodiesel_in_crude_oil_share              %     0.0     0.0   \n",
      "agriculture_burner_crude_oil_share                    %     0.0     0.0   \n",
      "agriculture_burner_hydrogen_share                     %     0.0     0.0   \n",
      "agriculture_burner_network_gas_share                  %     0.0     0.0   \n",
      "agriculture_burner_wood_pellets_share                 %    15.0    15.0   \n",
      "agriculture_diesel_in_crude_oil_share                 %     0.0     0.0   \n",
      "agriculture_final_demand_ht_central_steam_hot_w...    %    80.0    80.0   \n",
      "agriculture_final_demand_local_steam_hot_water_...    %     0.0     0.0   \n",
      "agriculture_final_demand_mt_central_steam_hot_w...    %    None     0.0   \n",
      "\n",
      "scenario                                           2690503            2690506  \\\n",
      "                                                     value    default   value   \n",
      "input                                                                           \n",
      "agriculture_bio_kerosene_in_crude_oil_share           None        0.0     0.0   \n",
      "agriculture_biodiesel_in_crude_oil_share              None  53.562837     0.0   \n",
      "agriculture_burner_crude_oil_share                     0.0   0.522009     0.0   \n",
      "agriculture_burner_hydrogen_share                      0.0        0.0     0.0   \n",
      "agriculture_burner_network_gas_share                  15.9  34.320411     0.0   \n",
      "agriculture_burner_wood_pellets_share                  0.0   3.915293    20.0   \n",
      "agriculture_diesel_in_crude_oil_share                 None  42.975431     0.0   \n",
      "agriculture_final_demand_ht_central_steam_hot_w...    20.0   3.015182    50.0   \n",
      "agriculture_final_demand_local_steam_hot_water_...    52.3  52.344665     0.0   \n",
      "agriculture_final_demand_mt_central_steam_hot_w...    None        0.0    None   \n",
      "\n",
      "scenario                                                    \n",
      "                                                   default  \n",
      "input                                                       \n",
      "agriculture_bio_kerosene_in_crude_oil_share            0.0  \n",
      "agriculture_biodiesel_in_crude_oil_share               0.0  \n",
      "agriculture_burner_crude_oil_share                     0.0  \n",
      "agriculture_burner_hydrogen_share                      0.0  \n",
      "agriculture_burner_network_gas_share                   0.0  \n",
      "agriculture_burner_wood_pellets_share                 20.0  \n",
      "agriculture_diesel_in_crude_oil_share                  0.0  \n",
      "agriculture_final_demand_ht_central_steam_hot_w...    50.0  \n",
      "agriculture_final_demand_local_steam_hot_water_...     0.0  \n",
      "agriculture_final_demand_mt_central_steam_hot_w...     0.0  \n"
     ]
    }
   ],
   "source": [
    "# gqueries to all scenarios\n",
    "gqueries = [\n",
    "    \"final_demand_from_industry_energetic\",\n",
    "    \"final_demand_from_transport_energetic\",\n",
    "    \"final_demand_from_households_energetic\",\n",
    "    \"dashboard_total_costs\",\n",
    "    \"dashboard_co2_emissions_versus_start_year\"\n",
    "]\n",
    "for scenario in [scenario_a, scenario_b, scenario_c]:\n",
    "    scenario.add_queries(gqueries)\n",
    "\n",
    "# add inputs\n",
    "packer.add_inputs(scenario_a, scenario_b, scenario_c)\n",
    "\n",
    "gquery_df = packer.gquery_results()\n",
    "inputs_df = packer.inputs()\n",
    "\n",
    "print(f\"Gqueries:      \")\n",
    "print(gquery_df.head(10))\n",
    "print(f\"Inputs:      \")\n",
    "print(inputs_df.head(10))"
   ]
  },
  {
   "cell_type": "code",
   "execution_count": 14,
   "id": "973beed9",
   "metadata": {},
   "outputs": [],
   "source": [
    "# To excel with multiple scenarios\n",
    "packer.to_excel('multi_scenario_demo.xlsx')"
   ]
  },
  {
   "cell_type": "code",
   "execution_count": 15,
   "id": "fce7b2ec",
   "metadata": {},
   "outputs": [
    {
     "name": "stdout",
     "output_type": "stream",
     "text": [
      "{'total_scenarios': 3, 'custom_curves_count': 1, 'inputs_count': 2, 'sortables_count': 0, 'carrier_curves_count': 0, 'scenario_ids': [2690288, 2690503, 2690506]}\n"
     ]
    }
   ],
   "source": [
    "# You can also just pack parts of a scenario\n",
    "advanced_packer = ScenarioPacker()\n",
    "\n",
    "# Add scenarios selectively for different data types\n",
    "advanced_packer.add_inputs(scenario_a, scenario_b)  # Only A and B for inputs\n",
    "advanced_packer.add_custom_curves(scenario_c)       # Only C for custom curves\n",
    "\n",
    "print(advanced_packer.get_summary())"
   ]
  }
 ],
 "metadata": {
  "kernelspec": {
   "display_name": "pyetm-qKH2ozgc",
   "language": "python",
   "name": "python3"
  },
  "language_info": {
   "codemirror_mode": {
    "name": "ipython",
    "version": 3
   },
   "file_extension": ".py",
   "mimetype": "text/x-python",
   "name": "python",
   "nbconvert_exporter": "python",
   "pygments_lexer": "ipython3",
   "version": "3.12.9"
  }
 },
 "nbformat": 4,
 "nbformat_minor": 5
}
