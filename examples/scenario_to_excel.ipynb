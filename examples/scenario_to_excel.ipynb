{
 "cells": [
  {
   "cell_type": "markdown",
   "id": "930300db",
   "metadata": {},
   "source": [
    "## Preamble"
   ]
  },
  {
   "cell_type": "code",
   "execution_count": null,
   "id": "4e9a9e7c",
   "metadata": {},
   "outputs": [],
   "source": [
    "from example_helpers import setup_notebook\n",
    "from pyetm.models import Scenario\n",
    "\n",
    "setup_notebook()"
   ]
  },
  {
   "cell_type": "markdown",
   "id": "1f4414c0",
   "metadata": {},
   "source": [
    "## Picking my scenario"
   ]
  },
  {
   "cell_type": "markdown",
   "id": "c3cd461f",
   "metadata": {},
   "source": [
    "Use an API session ID to load up one of your scenarios.\n"
   ]
  },
  {
   "cell_type": "code",
   "execution_count": null,
   "id": "c4f42def",
   "metadata": {},
   "outputs": [],
   "source": [
    "# Example beta scenario\n",
    "scenario = Scenario.load(2690456)\n",
    "\n",
    "# Example pro scenario\n",
    "# scenario = Scenario.load(1340415)"
   ]
  },
  {
   "cell_type": "markdown",
   "id": "8d946757",
   "metadata": {},
   "source": [
    "## Create a Packer\n",
    "\n",
    "The scenario packer allows you to collect scenarios and define what information you want to extract from all of them. It helps to collect all info into dataframes or Excel.\n",
    "\n",
    "- **Main info** with `main_info()` you display all meta information about the scenarios, like area code and end years;\n",
    "\n",
    "- Input settings\n",
    "    - **Inputs** `inputs()` displays all inputs for the scenario including their unit, default and user-set values;\n",
    "    - **Custom curves** using `custom_curves()` you can retrieve and display the curves uploaded to the scenario;\n",
    "    - **Sortables** `sortables()` shows all user sortables set for the scenario, like heat network orders, etc;\n",
    "- Outputs:\n",
    "    - **GQuery results** with `gquery_results()` you can retrieve the queries that were prepared for the scenarios;\n",
    "    - **Output curves** `output_curves()` downloads and shows the carreir curves requested for the scenarios.\n",
    "\n",
    "\n",
    "Scenarios can be added to a packer in multiple ways:\n",
    "\n",
    "- `add(*scenarios)`  will ready the scenario for all 6 packs (or Excel tabs) described above\n",
    "- `add_inputs(*scenarios)` will only ready the scenarios for the inputs dataframe or Excel tab\n",
    "- `add_sortables(*scenarios)` will only ready the scenarios for the sortables dataframe or Excel tab\n",
    "- `add_custom_curves(*scenarios)` will only ready the scenarios for the custom_curves dataframe or Excel tab\n",
    "- `add_output_curves(*scenarios)` will only ready the scenarios for the output_curves dataframe or Excel tab\n",
    "\n",
    "If a scenario is added in any of the individual packs, it will be automatically added for main info and prepared gqueries."
   ]
  },
  {
   "cell_type": "markdown",
   "id": "a9d9214a",
   "metadata": {},
   "source": [
    "-----------------\n",
    "\n",
    "NOTE: the packer currently only works for a single scenario!\n",
    "\n",
    "-----------------"
   ]
  },
  {
   "cell_type": "code",
   "execution_count": null,
   "id": "fa8ac6ab",
   "metadata": {},
   "outputs": [],
   "source": [
    "from pyetm.models import ScenarioPacker\n",
    "\n",
    "packer = ScenarioPacker()\n",
    "\n",
    "scenario = Scenario.load(2690456)\n",
    "scenario2 = Scenario.load(2690455)\n",
    "# Ready the scenario for inputs\n",
    "packer.add_inputs(scenario)\n",
    "packer.add_inputs(scenario2)\n",
    "\n",
    "# Main info is automatically readied\n",
    "print(packer.inputs())\n",
    "print(packer.main_info())\n"
   ]
  },
  {
   "cell_type": "markdown",
   "id": "ed1cefd4",
   "metadata": {},
   "source": [
    "When you add gqueries to a scenario which is connected to the packer, these queries will be readied for the pack."
   ]
  },
  {
   "cell_type": "code",
   "execution_count": null,
   "id": "739e2a12",
   "metadata": {},
   "outputs": [],
   "source": [
    "scenario.add_queries(\n",
    "    [\"dashboard_total_costs\", \"dashboard_co2_emissions_versus_start_year\"]\n",
    ")\n",
    "\n",
    "print(packer.gquery_results())"
   ]
  },
  {
   "cell_type": "markdown",
   "id": "c924ac3d",
   "metadata": {},
   "source": [
    "Queries can be added on-the-go. When the packer is exported to Excel, all requested queries will show up."
   ]
  },
  {
   "cell_type": "code",
   "execution_count": null,
   "id": "ce5e2bdb",
   "metadata": {},
   "outputs": [],
   "source": [
    "scenario.add_queries(\n",
    "    [\"dashboard_emissions\"]\n",
    ")\n",
    "\n",
    "scenario2.add_queries(\n",
    "    [\"dashboard_emissions\"]\n",
    ")\n",
    "\n",
    "packer.to_excel('my_excel.xlsx')"
   ]
  },
  {
   "cell_type": "markdown",
   "id": "68ce86c3",
   "metadata": {},
   "source": [
    "Output curves:"
   ]
  },
  {
   "cell_type": "code",
   "execution_count": null,
   "id": "bffd54b8",
   "metadata": {},
   "outputs": [],
   "source": [
    "packer.add_output_curves(scenario)\n",
    "packer.add_output_curves(scenario2)\n",
    "packer.add_custom_curves(scenario)\n",
    "packer.add_custom_curves(scenario2)\n",
    "packer.add_sortables(scenario)\n",
    "packer.add_sortables(scenario2)\n",
    "\n",
    "\n",
    "packer.to_excel('testing_output_curves.xlsx')"
   ]
  }
 ],
 "metadata": {
  "kernelspec": {
   "display_name": "pyetm-qKH2ozgc",
   "language": "python",
   "name": "python3"
  },
  "language_info": {
   "codemirror_mode": {
    "name": "ipython",
    "version": 3
   },
   "file_extension": ".py",
   "mimetype": "text/x-python",
   "name": "python",
   "nbconvert_exporter": "python",
   "pygments_lexer": "ipython3",
   "version": "3.12.9"
  }
 },
 "nbformat": 4,
 "nbformat_minor": 5
}
