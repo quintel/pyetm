{
 "cells": [
  {
   "cell_type": "markdown",
   "id": "d9bff682",
   "metadata": {},
   "source": [
    "Updating a scenario flow:\n",
    "\n",
    "#TODO: Expand descriptions etc, this is just to show the funnctionality"
   ]
  },
  {
   "cell_type": "markdown",
   "id": "21347fc1",
   "metadata": {},
   "source": [
    "# SETUP"
   ]
  },
  {
   "cell_type": "code",
   "execution_count": 5,
   "id": "3ada4b30",
   "metadata": {},
   "outputs": [
    {
     "name": "stdout",
     "output_type": "stream",
     "text": [
      "Environment setup complete\n",
      "  Using ETM API at     http://localhost:3000/api/v3\n",
      "  Token loaded?        True\n",
      "API connection ready\n"
     ]
    }
   ],
   "source": [
    "from example_helpers import setup_notebook\n",
    "from pyetm.models import Scenario\n",
    "\n",
    "setup_notebook()\n",
    "\n",
    "# Change the scenario id to anything you want! This is a local scenario for testing\n",
    "scenario = Scenario.load(2690288)"
   ]
  },
  {
   "cell_type": "markdown",
   "id": "07461117",
   "metadata": {},
   "source": [
    "Update inputs for a scenario:\n",
    "\n",
    "(for this scenario I'm going to test updating the co_firing_biocoal_share)"
   ]
  },
  {
   "cell_type": "code",
   "execution_count": 6,
   "id": "5a1549ac",
   "metadata": {},
   "outputs": [
    {
     "ename": "ScenarioError",
     "evalue": "Could not update inputs: ['HTTP 422: {\"errors\":[\"\\\\\"coal_plant_fuel\\\\\" group does not balance: group sums to 80.0 using co_firing_biocoal_share=80.0 co_firing_coal_share=0.0\"]}']",
     "output_type": "error",
     "traceback": [
      "\u001b[31mScenarioError\u001b[39m\u001b[31m:\u001b[39m Could not update inputs: ['HTTP 422: {\"errors\":[\"\\\\\"coal_plant_fuel\\\\\" group does not balance: group sums to 80.0 using co_firing_biocoal_share=80.0 co_firing_coal_share=0.0\"]}']\n"
     ]
    }
   ],
   "source": [
    "scenario.update_inputs({\n",
    "    \"co_firing_biocoal_share\": 80.0,\n",
    "})\n"
   ]
  },
  {
   "cell_type": "markdown",
   "id": "714f34c5",
   "metadata": {},
   "source": [
    "As you can see, if I try and update a share group in a way that does not balance, I get a helpful error from the API. The below code block adjusts the group appropriately."
   ]
  },
  {
   "cell_type": "code",
   "execution_count": 7,
   "id": "3395b87a",
   "metadata": {},
   "outputs": [],
   "source": [
    "scenario.update_inputs({\n",
    "    \"co_firing_biocoal_share\": 80.0,\n",
    "    \"co_firing_coal_share\": 20.0,\n",
    "})\n"
   ]
  }
 ],
 "metadata": {
  "kernelspec": {
   "display_name": "pyetm-qKH2ozgc",
   "language": "python",
   "name": "python3"
  },
  "language_info": {
   "codemirror_mode": {
    "name": "ipython",
    "version": 3
   },
   "file_extension": ".py",
   "mimetype": "text/x-python",
   "name": "python",
   "nbconvert_exporter": "python",
   "pygments_lexer": "ipython3",
   "version": "3.12.9"
  }
 },
 "nbformat": 4,
 "nbformat_minor": 5
}
