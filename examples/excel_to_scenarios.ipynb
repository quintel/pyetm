{
 "cells": [
  {
   "cell_type": "markdown",
   "id": "70d54062",
   "metadata": {},
   "source": [
    "This notebook is for demonstrating and testing the excel to scenarios flow.\n",
    "\n",
    "Currently can only handle metadata and inputs."
   ]
  },
  {
   "cell_type": "code",
   "execution_count": null,
   "id": "4866f9d1",
   "metadata": {},
   "outputs": [],
   "source": [
    "from example_helpers import setup_notebook\n",
    "from pyetm.models.scenario_packer import ScenarioPacker\n",
    "\n",
    "\n",
    "setup_notebook()\n",
    "packer = ScenarioPacker.from_excel(\"my_input_excel.xlsx\")\n",
    "summary = packer.get_summary()\n",
    "print(summary)\n",
    "packer.inputs()"
   ]
  },
  {
   "cell_type": "code",
   "execution_count": null,
   "id": "cd08ff26",
   "metadata": {},
   "outputs": [],
   "source": [
    "packer.sortables()"
   ]
  },
  {
   "cell_type": "code",
   "execution_count": null,
   "id": "0d3e771e",
   "metadata": {},
   "outputs": [],
   "source": [
    "packer.custom_curves().head()"
   ]
  },
  {
   "cell_type": "code",
   "execution_count": null,
   "id": "54cc3f61",
   "metadata": {},
   "outputs": [],
   "source": [
    "packer.gquery_results()"
   ]
  }
 ],
 "metadata": {
  "kernelspec": {
   "display_name": "pyetm-qKH2ozgc",
   "language": "python",
   "name": "python3"
  },
  "language_info": {
   "codemirror_mode": {
    "name": "ipython",
    "version": 3
   },
   "file_extension": ".py",
   "mimetype": "text/x-python",
   "name": "python",
   "nbconvert_exporter": "python",
   "pygments_lexer": "ipython3",
   "version": "3.12.9"
  }
 },
 "nbformat": 4,
 "nbformat_minor": 5
}
