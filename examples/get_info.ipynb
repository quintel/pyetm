{
 "cells": [
  {
   "cell_type": "markdown",
   "id": "e1993731",
   "metadata": {},
   "source": [
    "# Fetch available info\n",
    "\n",
    "This workbook shows how to:\n",
    "\n",
    "- Fetch inputs\n",
    "- Fetch couplings and coupling inputs\n",
    "- Fetch sortables"
   ]
  },
  {
   "cell_type": "code",
   "execution_count": null,
   "id": "38024f5a",
   "metadata": {},
   "outputs": [],
   "source": [
    "# Check the environment is properly configured.\n",
    "from example_helpers import setup_notebook\n",
    "setup_notebook()\n",
    "from pyetm.models.scenario import Scenario\n",
    "\n",
    "scenario = Scenario.load(2690439)"
   ]
  },
  {
   "cell_type": "code",
   "execution_count": null,
   "id": "5aa1b657",
   "metadata": {},
   "outputs": [],
   "source": [
    "# Total available inputs, their min, max and default values\n",
    "inputs = scenario.inputs\n",
    "print(inputs.to_dataframe(columns=[\"key\", \"default\", \"min\", \"max\"]))"
   ]
  },
  {
   "cell_type": "code",
   "execution_count": null,
   "id": "17ed6ba8",
   "metadata": {},
   "outputs": [],
   "source": [
    "# What are the available couplings? curves?"
   ]
  },
  {
   "cell_type": "code",
   "execution_count": null,
   "id": "c2b47fc3",
   "metadata": {},
   "outputs": [],
   "source": [
    "# Available Sortables and their current order\n",
    "sortables = scenario.sortables\n",
    "print(\"Sortable groups:\", sortables.names())\n",
    "\n",
    "# Show sortables as dataframe if available\n",
    "try:\n",
    "    df_sortables = sortables.to_dataframe()\n",
    "    display(df_sortables.head(10))\n",
    "except Exception as e:\n",
    "    print(\"Failed to build sortables dataframe:\", e)"
   ]
  },
  {
   "cell_type": "code",
   "execution_count": null,
   "id": "c553c572",
   "metadata": {},
   "outputs": [],
   "source": [
    "# Output curves: sample access by carrier type\n",
    "from pyetm.models.scenario import OutputCurves\n",
    "OutputCurves._load_carrier_mappings()"
   ]
  }
 ],
 "metadata": {
  "kernelspec": {
   "display_name": "pyetm-Rh4Np-o3-py3.12",
   "language": "python",
   "name": "python3"
  },
  "language_info": {
   "codemirror_mode": {
    "name": "ipython",
    "version": 3
   },
   "file_extension": ".py",
   "mimetype": "text/x-python",
   "name": "python",
   "nbconvert_exporter": "python",
   "pygments_lexer": "ipython3",
   "version": "3.12.9"
  }
 },
 "nbformat": 4,
 "nbformat_minor": 5
}
