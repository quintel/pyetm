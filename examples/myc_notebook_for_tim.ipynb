{
 "cells": [
  {
   "cell_type": "markdown",
   "id": "8128efd6",
   "metadata": {},
   "source": [
    "This notebook mimics the myc_notebook from pyetm v1 to demonstrate how functionalities remain the same, despite being dressed up differently."
   ]
  },
  {
   "cell_type": "markdown",
   "id": "53e5210e",
   "metadata": {},
   "source": [
    "**Multi-year charts**\n",
    "\n",
    "The MYC function within the ETM allows users to view and edit multiple scenarios at once. This \n",
    "feature is useful to compare different scenarios or to built a transition path that contains \n",
    "scenarios with different end years, see https://myc.energytransitionmodel.com/\n"
   ]
  },
  {
   "cell_type": "markdown",
   "id": "205371e8",
   "metadata": {},
   "source": [
    "**Model Initialisation**\n",
    "\n",
    "Where you used to initialize the 'model' with the `model.from_excel()` function, now we work with a 'scenario' or 'scenarios' (TBC - what will we call the multiple scenario object?).\n",
    "\n",
    "You need to run the setup_notebook() command to get the API ready - this will also validate that you've set your API token correctly. You determine whether you connect with the beta, stable or live version of the ETM via the ETM_URL in the config."
   ]
  },
  {
   "cell_type": "code",
   "execution_count": null,
   "id": "e3d108b6",
   "metadata": {},
   "outputs": [],
   "source": [
    "from example_helpers import setup_notebook\n",
    "from pyetm.models import Scenario\n",
    "\n",
    "setup_notebook()"
   ]
  },
  {
   "cell_type": "markdown",
   "id": "f87a2eef",
   "metadata": {},
   "source": [
    "Then, you can create a scenario (or scenarios) with the Scenario.from_excel. For now this functionality is not implemented, so the example will continue by loading an individual scenario. Note that when multi-scenario functionality has been implemented, these same steps should work exactly the same way, but on the Scenarios object, rather than the Scenario object."
   ]
  },
  {
   "cell_type": "code",
   "execution_count": null,
   "id": "76dce178",
   "metadata": {},
   "outputs": [],
   "source": [
    "scenario = Scenario.load(2690499)"
   ]
  },
  {
   "cell_type": "code",
   "execution_count": null,
   "id": "5c8a7628",
   "metadata": {},
   "outputs": [],
   "source": [
    "# Get scenario input parameters (incl. units)\n",
    "inputs = scenario.inputs\n",
    "print(inputs.to_dataframe().head())"
   ]
  },
  {
   "cell_type": "markdown",
   "id": "ba56a5f2",
   "metadata": {},
   "source": [
    "You will notice that in the original pyetm this call was:\n",
    "```\n",
    "inputs = model.get_parameters(exclude=True)\n",
    "inputs.head()\n",
    "```\n",
    "Pyetm v2 is more developer friendly, which means that each of the 'objects' on the model (for example the inputs) are still python objects until you call **to_dataframe()** on them. This is one of the more significant changes - you will have to specify (in the notebooks) what format you want the data in. For the flows from Excel --> ETM and ETM --> Excel, this is all taken care of internally."
   ]
  },
  {
   "cell_type": "code",
   "execution_count": null,
   "id": "e3a3bfab",
   "metadata": {},
   "outputs": [],
   "source": [
    "# We also distinguish between inputs and user_values. Usually user values are more interesting:\n",
    "user_values = scenario.user_values()\n",
    "user_values"
   ]
  },
  {
   "cell_type": "code",
   "execution_count": null,
   "id": "fca99519",
   "metadata": {},
   "outputs": [],
   "source": [
    "# Execute gqueries to fetch data from ETM (incl. units)\n",
    "gqueries = scenario.results()\n",
    "print(gqueries)"
   ]
  },
  {
   "cell_type": "markdown",
   "id": "fd5267db",
   "metadata": {},
   "source": [
    "There are no default gqueries, you need to specify them yourself - hence the empty dataframe ."
   ]
  },
  {
   "cell_type": "code",
   "execution_count": null,
   "id": "ed984767",
   "metadata": {},
   "outputs": [],
   "source": [
    "scenario.add_queries([\"dashboard_emissions\"])\n",
    "gqueries = scenario.results()\n",
    "print(gqueries)"
   ]
  },
  {
   "cell_type": "code",
   "execution_count": null,
   "id": "5b0d61ec",
   "metadata": {},
   "outputs": [],
   "source": [
    "# Optional: Fetch hourly electricity price profiles from ETM\n",
    "custom_curves = scenario.custom_curves_series()\n",
    "for key in custom_curves: print(key)"
   ]
  },
  {
   "cell_type": "markdown",
   "id": "ddd8fa69",
   "metadata": {},
   "source": [
    "#TODO: Discuss\n",
    "\n",
    "Do you want a convenient way to only get the custom curves related to electricity price? Or are you more interested in the carrier curves? "
   ]
  },
  {
   "cell_type": "code",
   "execution_count": null,
   "id": "6a57a5bf",
   "metadata": {},
   "outputs": [],
   "source": [
    "# Optional: Fetch hourly carrier profiles from ETM\n",
    "output_curves = scenario.get_output_curves(carrier_type='electricity')\n",
    "output_curves"
   ]
  },
  {
   "cell_type": "markdown",
   "id": "f29ee72f",
   "metadata": {},
   "source": [
    "As you can see, this returns a dictionary of dataframes, including the merit_order, electricity_price and residual_load dataframes. If you want a specific output, just request it:"
   ]
  },
  {
   "cell_type": "code",
   "execution_count": null,
   "id": "5366a81c",
   "metadata": {},
   "outputs": [],
   "source": [
    "electricity_price = scenario.output_curve(curve_name='electricity_price')\n",
    "electricity_price"
   ]
  },
  {
   "cell_type": "markdown",
   "id": "638116c5",
   "metadata": {},
   "source": [
    "**Export scenarios to Excel**\n",
    "\n",
    "Just like with the original implementation, everything in the scenario can be exported to an excel file. This is done via a \"Scenario Packer\" which organises the data usefully to display via excel.\n",
    "\n",
    "This example is simplified in the sense that we just add everything in the scenario to the packer, but you can also add specific inputs, gqueries curves etc to a packer (see more examples in the scenario_to_excel notebook)."
   ]
  },
  {
   "cell_type": "code",
   "execution_count": null,
   "id": "4266f27d",
   "metadata": {},
   "outputs": [],
   "source": [
    "from pyetm.models import ScenarioPacker\n",
    "\n",
    "packer = ScenarioPacker()\n",
    "packer.add(scenario)\n",
    "packer.to_excel('my_excel.xlsx')"
   ]
  }
 ],
 "metadata": {
  "kernelspec": {
   "display_name": "pyetm-qKH2ozgc",
   "language": "python",
   "name": "python3"
  },
  "language_info": {
   "codemirror_mode": {
    "name": "ipython",
    "version": 3
   },
   "file_extension": ".py",
   "mimetype": "text/x-python",
   "name": "python",
   "nbconvert_exporter": "python",
   "pygments_lexer": "ipython3",
   "version": "3.12.9"
  }
 },
 "nbformat": 4,
 "nbformat_minor": 5
}
